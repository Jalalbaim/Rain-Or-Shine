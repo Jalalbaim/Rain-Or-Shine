{
 "cells": [
  {
   "cell_type": "markdown",
   "metadata": {},
   "source": [
    "# Model test\n",
    "***\n",
    "Test DenseNet "
   ]
  },
  {
   "cell_type": "code",
   "execution_count": 27,
   "metadata": {},
   "outputs": [
    {
     "name": "stdout",
     "output_type": "stream",
     "text": [
      "Modules Successfully Loaded\n"
     ]
    }
   ],
   "source": [
    "# Libraries\n",
    "\n",
    "import os\n",
    "from PIL import Image\n",
    "import itertools\n",
    "\n",
    "import cv2\n",
    "import numpy as np \n",
    "import pandas as pd \n",
    "import seaborn as sn\n",
    "import matplotlib.pyplot as plt\n",
    "from sklearn.model_selection import train_test_split\n",
    "from sklearn.metrics import confusion_matrix, classification_report\n",
    "\n",
    "import tensorflow as tf\n",
    "from tensorflow import keras\n",
    "from tensorflow.keras.preprocessing.image import ImageDataGenerator\n",
    "\n",
    "\n",
    "import warnings\n",
    "warnings.filterwarnings('ignore')\n",
    "\n",
    "print('Modules Successfully Loaded')"
   ]
  },
  {
   "cell_type": "markdown",
   "metadata": {},
   "source": [
    "## Dataframe to split train and test and validation"
   ]
  },
  {
   "cell_type": "code",
   "execution_count": 28,
   "metadata": {},
   "outputs": [
    {
     "data": {
      "text/html": [
       "<div>\n",
       "<style scoped>\n",
       "    .dataframe tbody tr th:only-of-type {\n",
       "        vertical-align: middle;\n",
       "    }\n",
       "\n",
       "    .dataframe tbody tr th {\n",
       "        vertical-align: top;\n",
       "    }\n",
       "\n",
       "    .dataframe thead th {\n",
       "        text-align: right;\n",
       "    }\n",
       "</style>\n",
       "<table border=\"1\" class=\"dataframe\">\n",
       "  <thead>\n",
       "    <tr style=\"text-align: right;\">\n",
       "      <th></th>\n",
       "      <th>Picture Path</th>\n",
       "      <th>Label</th>\n",
       "    </tr>\n",
       "  </thead>\n",
       "  <tbody>\n",
       "    <tr>\n",
       "      <th>0</th>\n",
       "      <td>./Multi-class Weather Dataset/Cloudy/cloudy1.jpg</td>\n",
       "      <td>Cloudy</td>\n",
       "    </tr>\n",
       "    <tr>\n",
       "      <th>1</th>\n",
       "      <td>./Multi-class Weather Dataset/Cloudy/cloudy10.jpg</td>\n",
       "      <td>Cloudy</td>\n",
       "    </tr>\n",
       "    <tr>\n",
       "      <th>2</th>\n",
       "      <td>./Multi-class Weather Dataset/Cloudy/cloudy100...</td>\n",
       "      <td>Cloudy</td>\n",
       "    </tr>\n",
       "    <tr>\n",
       "      <th>3</th>\n",
       "      <td>./Multi-class Weather Dataset/Cloudy/cloudy101...</td>\n",
       "      <td>Cloudy</td>\n",
       "    </tr>\n",
       "    <tr>\n",
       "      <th>4</th>\n",
       "      <td>./Multi-class Weather Dataset/Cloudy/cloudy102...</td>\n",
       "      <td>Cloudy</td>\n",
       "    </tr>\n",
       "  </tbody>\n",
       "</table>\n",
       "</div>"
      ],
      "text/plain": [
       "                                        Picture Path   Label\n",
       "0   ./Multi-class Weather Dataset/Cloudy/cloudy1.jpg  Cloudy\n",
       "1  ./Multi-class Weather Dataset/Cloudy/cloudy10.jpg  Cloudy\n",
       "2  ./Multi-class Weather Dataset/Cloudy/cloudy100...  Cloudy\n",
       "3  ./Multi-class Weather Dataset/Cloudy/cloudy101...  Cloudy\n",
       "4  ./Multi-class Weather Dataset/Cloudy/cloudy102...  Cloudy"
      ]
     },
     "execution_count": 28,
     "metadata": {},
     "output_type": "execute_result"
    }
   ],
   "source": [
    "data_dir= \"./Multi-class Weather Dataset\"\n",
    "paths = []\n",
    "labels = []\n",
    "folds = os.listdir(data_dir)\n",
    "for fold in folds :\n",
    "    condition_path = data_dir +\"/\" + fold\n",
    "    all_pic = os.listdir(condition_path)\n",
    "    for each_pic in all_pic:\n",
    "        each_pic_path = condition_path +\"/\" + each_pic\n",
    "        paths.append(each_pic_path)\n",
    "        labels.append(fold)\n",
    "        \n",
    "pseries = pd.Series(paths, name='Picture Path')\n",
    "lseries = pd.Series(labels, name='Label')\n",
    "\n",
    "df = pd.concat([pseries, lseries], axis =1)\n",
    "df.head()"
   ]
  },
  {
   "cell_type": "code",
   "execution_count": 29,
   "metadata": {},
   "outputs": [],
   "source": [
    "train_set, t_v_set = train_test_split(df, test_size=0.2, shuffle=True, stratify=df[\"Label\"], random_state=42)\n",
    "test_set, val_set = train_test_split(t_v_set, test_size=0.5, shuffle=True, stratify=t_v_set[\"Label\"], random_state=42)"
   ]
  },
  {
   "cell_type": "markdown",
   "metadata": {},
   "source": [
    "## Image Data generator "
   ]
  },
  {
   "cell_type": "code",
   "execution_count": 31,
   "metadata": {},
   "outputs": [
    {
     "name": "stdout",
     "output_type": "stream",
     "text": [
      "Train Set Shape : \n",
      "Found 900 validated image filenames belonging to 4 classes.\n",
      "Val Set Shape : \n",
      "Found 113 validated image filenames belonging to 4 classes.\n"
     ]
    },
    {
     "name": "stdout",
     "output_type": "stream",
     "text": [
      "Test Set Shape : \n",
      "Found 112 validated image filenames belonging to 4 classes.\n"
     ]
    }
   ],
   "source": [
    "batch_size = 64\n",
    "img_size = (224, 224)\n",
    "channels = 3\n",
    "img_shape = (img_size[0], img_size[1], channels)\n",
    "tr_gen = ImageDataGenerator()\n",
    "ts_gen = ImageDataGenerator()\n",
    "\n",
    "print(\"Train Set:\")\n",
    "train_gen = tr_gen.flow_from_dataframe(train_set, x_col='Picture Path', y_col='Label', target_size=img_size, class_mode='categorical',\n",
    "                                       color_mode='rgb', shuffle=True, batch_size=batch_size)\n",
    "\n",
    "\n",
    "print(\"Val Set:\")\n",
    "valid_gen = ts_gen.flow_from_dataframe(val_set, x_col='Picture Path', y_col='Label', target_size=img_size, class_mode='categorical',\n",
    "                                       color_mode='rgb', shuffle=True, batch_size=batch_size)\n",
    "\n",
    "\n",
    "print(\"Test Set:\")\n",
    "test_gen = ts_gen.flow_from_dataframe(test_set, x_col='Picture Path', y_col='Label', target_size=img_size, class_mode='categorical',\n",
    "                                      color_mode='rgb', shuffle=False, batch_size=batch_size)\n"
   ]
  }
 ],
 "metadata": {
  "kernelspec": {
   "display_name": "Python 3",
   "language": "python",
   "name": "python3"
  },
  "language_info": {
   "codemirror_mode": {
    "name": "ipython",
    "version": 3
   },
   "file_extension": ".py",
   "mimetype": "text/x-python",
   "name": "python",
   "nbconvert_exporter": "python",
   "pygments_lexer": "ipython3",
   "version": "3.11.3"
  }
 },
 "nbformat": 4,
 "nbformat_minor": 2
}
