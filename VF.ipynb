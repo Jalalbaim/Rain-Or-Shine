{
 "cells": [
  {
   "cell_type": "markdown",
   "metadata": {},
   "source": [
    "# Classifictation model "
   ]
  },
  {
   "cell_type": "code",
   "execution_count": 1,
   "metadata": {},
   "outputs": [],
   "source": [
    "%reset -f"
   ]
  },
  {
   "cell_type": "code",
   "execution_count": 2,
   "metadata": {},
   "outputs": [
    {
     "name": "stderr",
     "output_type": "stream",
     "text": [
      "c:\\Users\\JALAL\\anaconda3\\Lib\\site-packages\\paramiko\\transport.py:219: CryptographyDeprecationWarning: Blowfish has been deprecated\n",
      "  \"class\": algorithms.Blowfish,\n"
     ]
    },
    {
     "name": "stdout",
     "output_type": "stream",
     "text": [
      "WARNING:tensorflow:From c:\\Users\\JALAL\\anaconda3\\Lib\\site-packages\\keras\\src\\losses.py:2976: The name tf.losses.sparse_softmax_cross_entropy is deprecated. Please use tf.compat.v1.losses.sparse_softmax_cross_entropy instead.\n",
      "\n",
      "Modules Successfully Loaded\n"
     ]
    }
   ],
   "source": [
    "# Libraries\n",
    "\n",
    "import os\n",
    "from PIL import Image\n",
    "import itertools\n",
    "\n",
    "import cv2\n",
    "from skimage import io, color, filters\n",
    "from skimage.feature import local_binary_pattern\n",
    "import numpy as np \n",
    "import pandas as pd \n",
    "import seaborn as sn\n",
    "import matplotlib.pyplot as plt\n",
    "from sklearn.model_selection import train_test_split\n",
    "from sklearn.metrics import confusion_matrix, classification_report\n",
    "\n",
    "import tensorflow as tf\n",
    "from tensorflow import keras\n",
    "from tensorflow.keras.preprocessing.image import ImageDataGenerator\n",
    "\n",
    "\n",
    "import warnings\n",
    "warnings.filterwarnings('ignore')\n",
    "\n",
    "print('Modules Successfully Loaded')"
   ]
  },
  {
   "cell_type": "markdown",
   "metadata": {},
   "source": [
    "## Dataset "
   ]
  },
  {
   "cell_type": "code",
   "execution_count": 3,
   "metadata": {},
   "outputs": [
    {
     "data": {
      "text/html": [
       "<div>\n",
       "<style scoped>\n",
       "    .dataframe tbody tr th:only-of-type {\n",
       "        vertical-align: middle;\n",
       "    }\n",
       "\n",
       "    .dataframe tbody tr th {\n",
       "        vertical-align: top;\n",
       "    }\n",
       "\n",
       "    .dataframe thead th {\n",
       "        text-align: right;\n",
       "    }\n",
       "</style>\n",
       "<table border=\"1\" class=\"dataframe\">\n",
       "  <thead>\n",
       "    <tr style=\"text-align: right;\">\n",
       "      <th></th>\n",
       "      <th>Picture Path</th>\n",
       "      <th>Label</th>\n",
       "    </tr>\n",
       "  </thead>\n",
       "  <tbody>\n",
       "    <tr>\n",
       "      <th>0</th>\n",
       "      <td>./Multi-class Weather Dataset/Cloudy/cloudy1.jpg</td>\n",
       "      <td>Cloudy</td>\n",
       "    </tr>\n",
       "    <tr>\n",
       "      <th>1</th>\n",
       "      <td>./Multi-class Weather Dataset/Cloudy/cloudy10.jpg</td>\n",
       "      <td>Cloudy</td>\n",
       "    </tr>\n",
       "    <tr>\n",
       "      <th>2</th>\n",
       "      <td>./Multi-class Weather Dataset/Cloudy/cloudy100...</td>\n",
       "      <td>Cloudy</td>\n",
       "    </tr>\n",
       "    <tr>\n",
       "      <th>3</th>\n",
       "      <td>./Multi-class Weather Dataset/Cloudy/cloudy101...</td>\n",
       "      <td>Cloudy</td>\n",
       "    </tr>\n",
       "    <tr>\n",
       "      <th>4</th>\n",
       "      <td>./Multi-class Weather Dataset/Cloudy/cloudy102...</td>\n",
       "      <td>Cloudy</td>\n",
       "    </tr>\n",
       "  </tbody>\n",
       "</table>\n",
       "</div>"
      ],
      "text/plain": [
       "                                        Picture Path   Label\n",
       "0   ./Multi-class Weather Dataset/Cloudy/cloudy1.jpg  Cloudy\n",
       "1  ./Multi-class Weather Dataset/Cloudy/cloudy10.jpg  Cloudy\n",
       "2  ./Multi-class Weather Dataset/Cloudy/cloudy100...  Cloudy\n",
       "3  ./Multi-class Weather Dataset/Cloudy/cloudy101...  Cloudy\n",
       "4  ./Multi-class Weather Dataset/Cloudy/cloudy102...  Cloudy"
      ]
     },
     "execution_count": 3,
     "metadata": {},
     "output_type": "execute_result"
    }
   ],
   "source": [
    "data_dir= \"./Multi-class Weather Dataset\"\n",
    "paths = []\n",
    "labels = []\n",
    "folds = os.listdir(data_dir)\n",
    "for fold in folds :\n",
    "    condition_path = data_dir +\"/\" + fold\n",
    "    all_pic = os.listdir(condition_path)\n",
    "    for each_pic in all_pic:\n",
    "        each_pic_path = condition_path +\"/\" + each_pic\n",
    "        paths.append(each_pic_path)\n",
    "        labels.append(fold)\n",
    "        \n",
    "pseries = pd.Series(paths, name='Picture Path')\n",
    "lseries = pd.Series(labels, name='Label')\n",
    "\n",
    "df = pd.concat([pseries, lseries], axis =1)\n",
    "df.head()"
   ]
  },
  {
   "cell_type": "code",
   "execution_count": 4,
   "metadata": {},
   "outputs": [
    {
     "data": {
      "text/html": [
       "<div>\n",
       "<style scoped>\n",
       "    .dataframe tbody tr th:only-of-type {\n",
       "        vertical-align: middle;\n",
       "    }\n",
       "\n",
       "    .dataframe tbody tr th {\n",
       "        vertical-align: top;\n",
       "    }\n",
       "\n",
       "    .dataframe thead th {\n",
       "        text-align: right;\n",
       "    }\n",
       "</style>\n",
       "<table border=\"1\" class=\"dataframe\">\n",
       "  <thead>\n",
       "    <tr style=\"text-align: right;\">\n",
       "      <th></th>\n",
       "      <th>Picture Path</th>\n",
       "      <th>Label</th>\n",
       "    </tr>\n",
       "  </thead>\n",
       "  <tbody>\n",
       "    <tr>\n",
       "      <th>0</th>\n",
       "      <td>./Multi-class Weather Dataset/Cloudy/cloudy1.jpg</td>\n",
       "      <td>Nuageux</td>\n",
       "    </tr>\n",
       "    <tr>\n",
       "      <th>1</th>\n",
       "      <td>./Multi-class Weather Dataset/Cloudy/cloudy10.jpg</td>\n",
       "      <td>Nuageux</td>\n",
       "    </tr>\n",
       "    <tr>\n",
       "      <th>2</th>\n",
       "      <td>./Multi-class Weather Dataset/Cloudy/cloudy100...</td>\n",
       "      <td>Nuageux</td>\n",
       "    </tr>\n",
       "    <tr>\n",
       "      <th>3</th>\n",
       "      <td>./Multi-class Weather Dataset/Cloudy/cloudy101...</td>\n",
       "      <td>Nuageux</td>\n",
       "    </tr>\n",
       "    <tr>\n",
       "      <th>4</th>\n",
       "      <td>./Multi-class Weather Dataset/Cloudy/cloudy102...</td>\n",
       "      <td>Nuageux</td>\n",
       "    </tr>\n",
       "    <tr>\n",
       "      <th>...</th>\n",
       "      <td>...</td>\n",
       "      <td>...</td>\n",
       "    </tr>\n",
       "    <tr>\n",
       "      <th>1120</th>\n",
       "      <td>./Multi-class Weather Dataset/Sunrise/sunrise9...</td>\n",
       "      <td>Lever du soleil</td>\n",
       "    </tr>\n",
       "    <tr>\n",
       "      <th>1121</th>\n",
       "      <td>./Multi-class Weather Dataset/Sunrise/sunrise9...</td>\n",
       "      <td>Lever du soleil</td>\n",
       "    </tr>\n",
       "    <tr>\n",
       "      <th>1122</th>\n",
       "      <td>./Multi-class Weather Dataset/Sunrise/sunrise9...</td>\n",
       "      <td>Lever du soleil</td>\n",
       "    </tr>\n",
       "    <tr>\n",
       "      <th>1123</th>\n",
       "      <td>./Multi-class Weather Dataset/Sunrise/sunrise9...</td>\n",
       "      <td>Lever du soleil</td>\n",
       "    </tr>\n",
       "    <tr>\n",
       "      <th>1124</th>\n",
       "      <td>./Multi-class Weather Dataset/Sunrise/sunrise9...</td>\n",
       "      <td>Lever du soleil</td>\n",
       "    </tr>\n",
       "  </tbody>\n",
       "</table>\n",
       "<p>1125 rows × 2 columns</p>\n",
       "</div>"
      ],
      "text/plain": [
       "                                           Picture Path            Label\n",
       "0      ./Multi-class Weather Dataset/Cloudy/cloudy1.jpg          Nuageux\n",
       "1     ./Multi-class Weather Dataset/Cloudy/cloudy10.jpg          Nuageux\n",
       "2     ./Multi-class Weather Dataset/Cloudy/cloudy100...          Nuageux\n",
       "3     ./Multi-class Weather Dataset/Cloudy/cloudy101...          Nuageux\n",
       "4     ./Multi-class Weather Dataset/Cloudy/cloudy102...          Nuageux\n",
       "...                                                 ...              ...\n",
       "1120  ./Multi-class Weather Dataset/Sunrise/sunrise9...  Lever du soleil\n",
       "1121  ./Multi-class Weather Dataset/Sunrise/sunrise9...  Lever du soleil\n",
       "1122  ./Multi-class Weather Dataset/Sunrise/sunrise9...  Lever du soleil\n",
       "1123  ./Multi-class Weather Dataset/Sunrise/sunrise9...  Lever du soleil\n",
       "1124  ./Multi-class Weather Dataset/Sunrise/sunrise9...  Lever du soleil\n",
       "\n",
       "[1125 rows x 2 columns]"
      ]
     },
     "execution_count": 4,
     "metadata": {},
     "output_type": "execute_result"
    }
   ],
   "source": [
    "# Convert the labels to French\n",
    "df['Label'] = df['Label'].replace({'Cloudy': 'Nuageux', 'Rain': 'Pluvieux', 'Shine': 'Ensoleillé', 'Sunrise': 'Lever du soleil'})\n",
    "df"
   ]
  },
  {
   "cell_type": "code",
   "execution_count": 5,
   "metadata": {},
   "outputs": [
    {
     "data": {
      "text/html": [
       "<div>\n",
       "<style scoped>\n",
       "    .dataframe tbody tr th:only-of-type {\n",
       "        vertical-align: middle;\n",
       "    }\n",
       "\n",
       "    .dataframe tbody tr th {\n",
       "        vertical-align: top;\n",
       "    }\n",
       "\n",
       "    .dataframe thead th {\n",
       "        text-align: right;\n",
       "    }\n",
       "</style>\n",
       "<table border=\"1\" class=\"dataframe\">\n",
       "  <thead>\n",
       "    <tr style=\"text-align: right;\">\n",
       "      <th></th>\n",
       "      <th>Picture Path</th>\n",
       "      <th>Label</th>\n",
       "      <th>width</th>\n",
       "      <th>height</th>\n",
       "    </tr>\n",
       "  </thead>\n",
       "  <tbody>\n",
       "    <tr>\n",
       "      <th>0</th>\n",
       "      <td>./Multi-class Weather Dataset/Cloudy/cloudy1.jpg</td>\n",
       "      <td>Nuageux</td>\n",
       "      <td>600</td>\n",
       "      <td>400</td>\n",
       "    </tr>\n",
       "    <tr>\n",
       "      <th>1</th>\n",
       "      <td>./Multi-class Weather Dataset/Cloudy/cloudy10.jpg</td>\n",
       "      <td>Nuageux</td>\n",
       "      <td>271</td>\n",
       "      <td>186</td>\n",
       "    </tr>\n",
       "    <tr>\n",
       "      <th>2</th>\n",
       "      <td>./Multi-class Weather Dataset/Cloudy/cloudy100...</td>\n",
       "      <td>Nuageux</td>\n",
       "      <td>259</td>\n",
       "      <td>194</td>\n",
       "    </tr>\n",
       "    <tr>\n",
       "      <th>3</th>\n",
       "      <td>./Multi-class Weather Dataset/Cloudy/cloudy101...</td>\n",
       "      <td>Nuageux</td>\n",
       "      <td>338</td>\n",
       "      <td>149</td>\n",
       "    </tr>\n",
       "    <tr>\n",
       "      <th>4</th>\n",
       "      <td>./Multi-class Weather Dataset/Cloudy/cloudy102...</td>\n",
       "      <td>Nuageux</td>\n",
       "      <td>800</td>\n",
       "      <td>377</td>\n",
       "    </tr>\n",
       "  </tbody>\n",
       "</table>\n",
       "</div>"
      ],
      "text/plain": [
       "                                        Picture Path    Label  width  height\n",
       "0   ./Multi-class Weather Dataset/Cloudy/cloudy1.jpg  Nuageux    600     400\n",
       "1  ./Multi-class Weather Dataset/Cloudy/cloudy10.jpg  Nuageux    271     186\n",
       "2  ./Multi-class Weather Dataset/Cloudy/cloudy100...  Nuageux    259     194\n",
       "3  ./Multi-class Weather Dataset/Cloudy/cloudy101...  Nuageux    338     149\n",
       "4  ./Multi-class Weather Dataset/Cloudy/cloudy102...  Nuageux    800     377"
      ]
     },
     "execution_count": 5,
     "metadata": {},
     "output_type": "execute_result"
    }
   ],
   "source": [
    "\n",
    "# Function to get image dimensions\n",
    "def get_image_dimensions(image_path):\n",
    "    with Image.open(image_path) as img:\n",
    "        width, height = img.size\n",
    "    return width, height \n",
    "\n",
    "# Add columns to dataframe\n",
    "df['width'], df['height'] = zip(*df['Picture Path'].map(get_image_dimensions))\n",
    "\n",
    "df.head()"
   ]
  },
  {
   "cell_type": "markdown",
   "metadata": {},
   "source": [
    "# Train Test Split (80% - 20%)"
   ]
  },
  {
   "cell_type": "code",
   "execution_count": 6,
   "metadata": {},
   "outputs": [],
   "source": [
    "train_set, test_set = train_test_split(df, test_size=0.2, shuffle=True, stratify=df[\"Label\"], random_state=42)"
   ]
  },
  {
   "cell_type": "code",
   "execution_count": 7,
   "metadata": {},
   "outputs": [
    {
     "data": {
      "text/html": [
       "<div>\n",
       "<style scoped>\n",
       "    .dataframe tbody tr th:only-of-type {\n",
       "        vertical-align: middle;\n",
       "    }\n",
       "\n",
       "    .dataframe tbody tr th {\n",
       "        vertical-align: top;\n",
       "    }\n",
       "\n",
       "    .dataframe thead th {\n",
       "        text-align: right;\n",
       "    }\n",
       "</style>\n",
       "<table border=\"1\" class=\"dataframe\">\n",
       "  <thead>\n",
       "    <tr style=\"text-align: right;\">\n",
       "      <th></th>\n",
       "      <th>Picture Path</th>\n",
       "      <th>Label</th>\n",
       "      <th>width</th>\n",
       "      <th>height</th>\n",
       "    </tr>\n",
       "  </thead>\n",
       "  <tbody>\n",
       "    <tr>\n",
       "      <th>646</th>\n",
       "      <td>./Multi-class Weather Dataset/Shine/shine217.jpg</td>\n",
       "      <td>Ensoleillé</td>\n",
       "      <td>270</td>\n",
       "      <td>169</td>\n",
       "    </tr>\n",
       "    <tr>\n",
       "      <th>892</th>\n",
       "      <td>./Multi-class Weather Dataset/Sunrise/sunrise2...</td>\n",
       "      <td>Lever du soleil</td>\n",
       "      <td>3200</td>\n",
       "      <td>1200</td>\n",
       "    </tr>\n",
       "    <tr>\n",
       "      <th>157</th>\n",
       "      <td>./Multi-class Weather Dataset/Cloudy/cloudy240...</td>\n",
       "      <td>Nuageux</td>\n",
       "      <td>300</td>\n",
       "      <td>138</td>\n",
       "    </tr>\n",
       "    <tr>\n",
       "      <th>682</th>\n",
       "      <td>./Multi-class Weather Dataset/Shine/shine25.jpg</td>\n",
       "      <td>Ensoleillé</td>\n",
       "      <td>852</td>\n",
       "      <td>480</td>\n",
       "    </tr>\n",
       "    <tr>\n",
       "      <th>224</th>\n",
       "      <td>./Multi-class Weather Dataset/Cloudy/cloudy300...</td>\n",
       "      <td>Nuageux</td>\n",
       "      <td>300</td>\n",
       "      <td>149</td>\n",
       "    </tr>\n",
       "  </tbody>\n",
       "</table>\n",
       "</div>"
      ],
      "text/plain": [
       "                                          Picture Path            Label  \\\n",
       "646   ./Multi-class Weather Dataset/Shine/shine217.jpg       Ensoleillé   \n",
       "892  ./Multi-class Weather Dataset/Sunrise/sunrise2...  Lever du soleil   \n",
       "157  ./Multi-class Weather Dataset/Cloudy/cloudy240...          Nuageux   \n",
       "682    ./Multi-class Weather Dataset/Shine/shine25.jpg       Ensoleillé   \n",
       "224  ./Multi-class Weather Dataset/Cloudy/cloudy300...          Nuageux   \n",
       "\n",
       "     width  height  \n",
       "646    270     169  \n",
       "892   3200    1200  \n",
       "157    300     138  \n",
       "682    852     480  \n",
       "224    300     149  "
      ]
     },
     "execution_count": 7,
     "metadata": {},
     "output_type": "execute_result"
    }
   ],
   "source": [
    "train_set.head()"
   ]
  },
  {
   "cell_type": "code",
   "execution_count": 8,
   "metadata": {},
   "outputs": [
    {
     "data": {
      "text/html": [
       "<div>\n",
       "<style scoped>\n",
       "    .dataframe tbody tr th:only-of-type {\n",
       "        vertical-align: middle;\n",
       "    }\n",
       "\n",
       "    .dataframe tbody tr th {\n",
       "        vertical-align: top;\n",
       "    }\n",
       "\n",
       "    .dataframe thead th {\n",
       "        text-align: right;\n",
       "    }\n",
       "</style>\n",
       "<table border=\"1\" class=\"dataframe\">\n",
       "  <thead>\n",
       "    <tr style=\"text-align: right;\">\n",
       "      <th></th>\n",
       "      <th>Picture Path</th>\n",
       "      <th>Label</th>\n",
       "      <th>width</th>\n",
       "      <th>height</th>\n",
       "    </tr>\n",
       "  </thead>\n",
       "  <tbody>\n",
       "    <tr>\n",
       "      <th>412</th>\n",
       "      <td>./Multi-class Weather Dataset/Rain/rain20.jpg</td>\n",
       "      <td>Pluvieux</td>\n",
       "      <td>620</td>\n",
       "      <td>413</td>\n",
       "    </tr>\n",
       "    <tr>\n",
       "      <th>645</th>\n",
       "      <td>./Multi-class Weather Dataset/Shine/shine216.jpg</td>\n",
       "      <td>Ensoleillé</td>\n",
       "      <td>230</td>\n",
       "      <td>153</td>\n",
       "    </tr>\n",
       "    <tr>\n",
       "      <th>90</th>\n",
       "      <td>./Multi-class Weather Dataset/Cloudy/cloudy180...</td>\n",
       "      <td>Nuageux</td>\n",
       "      <td>261</td>\n",
       "      <td>175</td>\n",
       "    </tr>\n",
       "    <tr>\n",
       "      <th>717</th>\n",
       "      <td>./Multi-class Weather Dataset/Shine/shine53.jpg</td>\n",
       "      <td>Ensoleillé</td>\n",
       "      <td>284</td>\n",
       "      <td>177</td>\n",
       "    </tr>\n",
       "    <tr>\n",
       "      <th>393</th>\n",
       "      <td>./Multi-class Weather Dataset/Rain/rain183.jpg</td>\n",
       "      <td>Pluvieux</td>\n",
       "      <td>630</td>\n",
       "      <td>446</td>\n",
       "    </tr>\n",
       "  </tbody>\n",
       "</table>\n",
       "</div>"
      ],
      "text/plain": [
       "                                          Picture Path       Label  width  \\\n",
       "412      ./Multi-class Weather Dataset/Rain/rain20.jpg    Pluvieux    620   \n",
       "645   ./Multi-class Weather Dataset/Shine/shine216.jpg  Ensoleillé    230   \n",
       "90   ./Multi-class Weather Dataset/Cloudy/cloudy180...     Nuageux    261   \n",
       "717    ./Multi-class Weather Dataset/Shine/shine53.jpg  Ensoleillé    284   \n",
       "393     ./Multi-class Weather Dataset/Rain/rain183.jpg    Pluvieux    630   \n",
       "\n",
       "     height  \n",
       "412     413  \n",
       "645     153  \n",
       "90      175  \n",
       "717     177  \n",
       "393     446  "
      ]
     },
     "execution_count": 8,
     "metadata": {},
     "output_type": "execute_result"
    }
   ],
   "source": [
    "test_set.head()"
   ]
  },
  {
   "cell_type": "markdown",
   "metadata": {},
   "source": [
    "# Image Data generator"
   ]
  },
  {
   "cell_type": "code",
   "execution_count": 9,
   "metadata": {},
   "outputs": [
    {
     "name": "stdout",
     "output_type": "stream",
     "text": [
      "Train Set:\n",
      "Found 900 validated image filenames belonging to 4 classes.\n",
      "Test Set:\n",
      "Found 225 validated image filenames belonging to 4 classes.\n"
     ]
    }
   ],
   "source": [
    "batch_size = 64\n",
    "img_size = (224, 224)\n",
    "channels = 3\n",
    "img_shape = (img_size[0], img_size[1], channels)\n",
    "tr_gen = ImageDataGenerator()\n",
    "ts_gen = ImageDataGenerator()\n",
    "\n",
    "print(\"Train Set:\")\n",
    "train_gen = tr_gen.flow_from_dataframe(train_set, x_col='Picture Path', y_col='Label', target_size=img_size, class_mode='categorical',\n",
    "                                       color_mode='rgb', shuffle=True, batch_size=batch_size)\n",
    "\n",
    "\n",
    "print(\"Test Set:\")\n",
    "test_gen = ts_gen.flow_from_dataframe(test_set, x_col='Picture Path', y_col='Label', target_size=img_size, class_mode='categorical',\n",
    "                                      color_mode='rgb', shuffle=False, batch_size=batch_size)\n"
   ]
  },
  {
   "cell_type": "markdown",
   "metadata": {},
   "source": [
    "# Caracteristiques"
   ]
  },
  {
   "cell_type": "code",
   "execution_count": 10,
   "metadata": {},
   "outputs": [],
   "source": [
    "def resize_and_crop_top(path, new_width=507, new_height=335):\n",
    "    \"\"\"\n",
    "    Resize the image to the specified dimensions and keep only the top 70% of the image.\n",
    "    \n",
    "    Args:\n",
    "    - image: numpy array representing the image.\n",
    "    - new_width: desired width after resizing.\n",
    "    - new_height: desired height after resizing.\n",
    "    \n",
    "    Returns:\n",
    "    - Resized and cropped image.\n",
    "    \"\"\"\n",
    "    image = io.imread(path)\n",
    "    # Resize the image to the desired dimensions without interpolation\n",
    "    resized_image = cv2.resize(image, (new_width, new_height))\n",
    "    \n",
    "    # Calculate the new height to keep only the top 70%\n",
    "    cropped_height = int(new_height * 0.7)\n",
    "    \n",
    "    # Crop the image to keep only the top 70%\n",
    "    cropped_image = resized_image[:cropped_height, :]\n",
    "    \n",
    "    return cropped_image"
   ]
  },
  {
   "cell_type": "code",
   "execution_count": 11,
   "metadata": {},
   "outputs": [],
   "source": [
    "\n",
    "def resize_images(folder_path, target_size):\n",
    "\n",
    "    # Parcourir toutes les images dans le dossier\n",
    "    for filename in os.listdir(folder_path):\n",
    "        if filename is not None:\n",
    "            image_path = os.path.join(folder_path, filename)\n",
    "            \n",
    "            # Vérifier si le fichier est une image\n",
    "            if os.path.isfile(image_path) and filename.lower().endswith(('.png', '.jpg', '.jpeg', '.bmp',)) :\n",
    "                \n",
    "                # Charger l'image\n",
    "                image = cv2.imread(image_path)\n",
    "\n",
    "                # Vérifier si l'image est correctement chargée\n",
    "                if image is not None:\n",
    "                    # Redimensionner l'image à la nouvelle taille\n",
    "                    resized_image = cv2.resize(image, target_size, interpolation=cv2.INTER_AREA)\n",
    "                    \n",
    "                    # Enregistrer l'image redimensionnée\n",
    "                    cv2.imwrite(image_path, resized_image)\n",
    "                else:\n",
    "                    print(f\"Impossible de charger l'image : {image_path}\")\n",
    "\n",
    "    print(\"Toutes les images ont été redimensionnées avec succès.\")"
   ]
  },
  {
   "cell_type": "code",
   "execution_count": 12,
   "metadata": {},
   "outputs": [],
   "source": [
    "def get_luminance(image):\n",
    "    # Check if the image has an alpha channel\n",
    "    if image.shape[2] == 4:\n",
    "        # Remove the alpha channel\n",
    "        image = image[:, :, :3]\n",
    "    gray_image = color.rgb2gray(image)\n",
    "    luminance_mean = np.std(gray_image)\n",
    "    return luminance_mean  \n",
    "\n",
    "\n",
    "def get_histogram(image):\n",
    "    red_channel = image[:, :, 0]\n",
    "    green_channel = image[:, :, 1]\n",
    "    blue_channel = image[:, :, 2]\n",
    "\n",
    "    # Calculate marginal histograms\n",
    "    red_hist, red_bins = np.histogram(red_channel.ravel(), bins=256)\n",
    "    green_hist, green_bins = np.histogram(green_channel.ravel(), bins=256)\n",
    "    blue_hist, blue_bins = np.histogram(blue_channel.ravel(), bins=256)\n",
    "\n",
    "    # Calculate the means of each channel\n",
    "    red_mean = np.average(red_bins[:-1], weights=red_hist)\n",
    "    green_mean = np.average(green_bins[:-1], weights=green_hist)\n",
    "    blue_mean = np.average(blue_bins[:-1], weights=blue_hist)\n",
    "\n",
    "    return [red_mean, green_mean, blue_mean]\n"
   ]
  },
  {
   "cell_type": "code",
   "execution_count": 13,
   "metadata": {},
   "outputs": [],
   "source": [
    "def calculate_lbp_histogram(image, n_points=8, radius=1, method='uniform'):\n",
    "    image = cv2.cvtColor(image, cv2.COLOR_BGR2GRAY)\n",
    "    # Calculate LBP patterns\n",
    "    lbp = local_binary_pattern(image, n_points, radius, method)\n",
    "\n",
    "    # Calculate the histogram of LBP patterns\n",
    "    n_bins = int(lbp.max() + 1)\n",
    "    hist, _ = np.histogram(lbp.ravel(), bins=n_bins, range=(0, n_bins))\n",
    "    \n",
    "    return hist.tolist()\n"
   ]
  },
  {
   "cell_type": "code",
   "execution_count": 14,
   "metadata": {},
   "outputs": [],
   "source": [
    "# preprocess + process\n",
    "\n",
    "def calculate_luminance(path):\n",
    "    try:\n",
    "        img = resize_and_crop_top(path)\n",
    "        return get_luminance(img)\n",
    "    except Exception as e:\n",
    "        print(f\"Error calculating luminance for image {path}: {str(e)}\")\n",
    "        return None\n",
    "\n",
    "def calculate_histogram(path):\n",
    "    try:\n",
    "        img = resize_and_crop_top(path)\n",
    "        return get_histogram(img)\n",
    "    except Exception as e:\n",
    "        print(f\"Error calculating histogram for image {path}: {str(e)}\")\n",
    "        return None\n",
    "\n",
    "def calculate_LBP(path):\n",
    "    try:\n",
    "        img = resize_and_crop_top(path)\n",
    "        return calculate_lbp_histogram(img, n_points=8, radius=1, method='uniform')\n",
    "    except Exception as e:\n",
    "        print(f\"Error calculating LBP for image {path}: {str(e)}\")\n",
    "        return None\n"
   ]
  },
  {
   "cell_type": "code",
   "execution_count": 15,
   "metadata": {},
   "outputs": [
    {
     "name": "stdout",
     "output_type": "stream",
     "text": [
      "Error calculating luminance for image ./Multi-class Weather Dataset/Shine/shine131.jpg: OpenCV(4.8.1) D:\\a\\opencv-python\\opencv-python\\opencv\\modules\\imgproc\\src\\resize.cpp:3699: error: (-215:Assertion failed) !dsize.empty() in function 'cv::hal::resize'\n",
      "\n",
      "Error calculating histogram for image ./Multi-class Weather Dataset/Shine/shine131.jpg: OpenCV(4.8.1) D:\\a\\opencv-python\\opencv-python\\opencv\\modules\\imgproc\\src\\resize.cpp:3699: error: (-215:Assertion failed) !dsize.empty() in function 'cv::hal::resize'\n",
      "\n",
      "Error calculating LBP for image ./Multi-class Weather Dataset/Shine/shine131.jpg: OpenCV(4.8.1) D:\\a\\opencv-python\\opencv-python\\opencv\\modules\\imgproc\\src\\resize.cpp:3699: error: (-215:Assertion failed) !dsize.empty() in function 'cv::hal::resize'\n",
      "\n",
      "Error calculating luminance for image ./Multi-class Weather Dataset/Cloudy/cloudy66.jpg: tuple index out of range\n",
      "Error calculating histogram for image ./Multi-class Weather Dataset/Cloudy/cloudy66.jpg: too many indices for array: array is 2-dimensional, but 3 were indexed\n",
      "Error calculating LBP for image ./Multi-class Weather Dataset/Cloudy/cloudy66.jpg: OpenCV(4.8.1) d:\\a\\opencv-python\\opencv-python\\opencv\\modules\\imgproc\\src\\color.simd_helpers.hpp:92: error: (-2:Unspecified error) in function '__cdecl cv::impl::`anonymous-namespace'::CvtHelper<struct cv::impl::`anonymous namespace'::Set<3,4,-1>,struct cv::impl::A0xd8611878::Set<1,-1,-1>,struct cv::impl::A0xd8611878::Set<0,2,5>,3>::CvtHelper(const class cv::_InputArray &,const class cv::_OutputArray &,int)'\n",
      "> Invalid number of channels in input image:\n",
      ">     'VScn::contains(scn)'\n",
      "> where\n",
      ">     'scn' is 1\n",
      "\n",
      "Error calculating luminance for image ./Multi-class Weather Dataset/Rain/rain141.jpg: OpenCV(4.8.1) D:\\a\\opencv-python\\opencv-python\\opencv\\modules\\imgproc\\src\\resize.cpp:3699: error: (-215:Assertion failed) !dsize.empty() in function 'cv::hal::resize'\n",
      "\n",
      "Error calculating histogram for image ./Multi-class Weather Dataset/Rain/rain141.jpg: OpenCV(4.8.1) D:\\a\\opencv-python\\opencv-python\\opencv\\modules\\imgproc\\src\\resize.cpp:3699: error: (-215:Assertion failed) !dsize.empty() in function 'cv::hal::resize'\n",
      "\n",
      "Error calculating LBP for image ./Multi-class Weather Dataset/Rain/rain141.jpg: OpenCV(4.8.1) D:\\a\\opencv-python\\opencv-python\\opencv\\modules\\imgproc\\src\\resize.cpp:3699: error: (-215:Assertion failed) !dsize.empty() in function 'cv::hal::resize'\n",
      "\n"
     ]
    }
   ],
   "source": [
    "# Save \n",
    "\n",
    "train_set['Luminance'] = None  \n",
    "train_set['RGB'] = None\n",
    "train_set['LBP'] = None\n",
    "\n",
    "for i in range(len(train_set)):\n",
    "    path = train_set['Picture Path'].iloc[i]\n",
    "    lumin = calculate_luminance(path)\n",
    "    hist = calculate_histogram(path)\n",
    "    lbp = calculate_LBP(path)\n",
    "    train_set['Luminance'].iloc[i] = lumin\n",
    "    train_set['RGB'].iloc[i] = hist\n",
    "    train_set['LBP'].iloc[i] = lbp\n"
   ]
  },
  {
   "cell_type": "code",
   "execution_count": 16,
   "metadata": {},
   "outputs": [
    {
     "name": "stdout",
     "output_type": "stream",
     "text": [
      "Error calculating luminance for image ./Multi-class Weather Dataset/Cloudy/cloudy71.jpg: tuple index out of range\n",
      "Error calculating histogram for image ./Multi-class Weather Dataset/Cloudy/cloudy71.jpg: too many indices for array: array is 2-dimensional, but 3 were indexed\n",
      "Error calculating LBP for image ./Multi-class Weather Dataset/Cloudy/cloudy71.jpg: OpenCV(4.8.1) d:\\a\\opencv-python\\opencv-python\\opencv\\modules\\imgproc\\src\\color.simd_helpers.hpp:92: error: (-2:Unspecified error) in function '__cdecl cv::impl::`anonymous-namespace'::CvtHelper<struct cv::impl::`anonymous namespace'::Set<3,4,-1>,struct cv::impl::A0xd8611878::Set<1,-1,-1>,struct cv::impl::A0xd8611878::Set<0,2,5>,3>::CvtHelper(const class cv::_InputArray &,const class cv::_OutputArray &,int)'\n",
      "> Invalid number of channels in input image:\n",
      ">     'VScn::contains(scn)'\n",
      "> where\n",
      ">     'scn' is 1\n",
      "\n"
     ]
    }
   ],
   "source": [
    "test_set['Luminance'] = None  \n",
    "test_set['RGB'] = None\n",
    "test_set['LBP'] = None\n",
    "\n",
    "for i in range(len(test_set)):\n",
    "    path = test_set['Picture Path'].iloc[i]\n",
    "    lumin = calculate_luminance(path)\n",
    "    hist = calculate_histogram(path)\n",
    "    lbp = calculate_LBP(path)\n",
    "    test_set['Luminance'].iloc[i] = lumin\n",
    "    test_set['RGB'].iloc[i] = hist\n",
    "    test_set['LBP'].iloc[i] = lbp\n"
   ]
  },
  {
   "cell_type": "code",
   "execution_count": 17,
   "metadata": {},
   "outputs": [],
   "source": [
    "train_set = train_set.dropna()\n",
    "test_set = test_set.dropna()\n",
    "#train_set.to_csv('train_set.csv', index=False)\n",
    "#test_set.to_csv('test_set.csv', index=False)"
   ]
  },
  {
   "cell_type": "code",
   "execution_count": 18,
   "metadata": {},
   "outputs": [
    {
     "data": {
      "text/html": [
       "<div>\n",
       "<style scoped>\n",
       "    .dataframe tbody tr th:only-of-type {\n",
       "        vertical-align: middle;\n",
       "    }\n",
       "\n",
       "    .dataframe tbody tr th {\n",
       "        vertical-align: top;\n",
       "    }\n",
       "\n",
       "    .dataframe thead th {\n",
       "        text-align: right;\n",
       "    }\n",
       "</style>\n",
       "<table border=\"1\" class=\"dataframe\">\n",
       "  <thead>\n",
       "    <tr style=\"text-align: right;\">\n",
       "      <th></th>\n",
       "      <th>Picture Path</th>\n",
       "      <th>Label</th>\n",
       "      <th>width</th>\n",
       "      <th>height</th>\n",
       "      <th>Luminance</th>\n",
       "      <th>RGB</th>\n",
       "      <th>LBP</th>\n",
       "    </tr>\n",
       "  </thead>\n",
       "  <tbody>\n",
       "    <tr>\n",
       "      <th>646</th>\n",
       "      <td>./Multi-class Weather Dataset/Shine/shine217.jpg</td>\n",
       "      <td>Ensoleillé</td>\n",
       "      <td>270</td>\n",
       "      <td>169</td>\n",
       "      <td>0.222895</td>\n",
       "      <td>[65.78350459354296, 123.6077803380873, 157.317...</td>\n",
       "      <td>[975, 3516, 2790, 15257, 27956, 28952, 7851, 7...</td>\n",
       "    </tr>\n",
       "    <tr>\n",
       "      <th>892</th>\n",
       "      <td>./Multi-class Weather Dataset/Sunrise/sunrise2...</td>\n",
       "      <td>Lever du soleil</td>\n",
       "      <td>3200</td>\n",
       "      <td>1200</td>\n",
       "      <td>0.192201</td>\n",
       "      <td>[124.46965440562889, 63.85506010800713, 28.894...</td>\n",
       "      <td>[7105, 8965, 4416, 10314, 13292, 17099, 8923, ...</td>\n",
       "    </tr>\n",
       "    <tr>\n",
       "      <th>157</th>\n",
       "      <td>./Multi-class Weather Dataset/Cloudy/cloudy240...</td>\n",
       "      <td>Nuageux</td>\n",
       "      <td>300</td>\n",
       "      <td>138</td>\n",
       "      <td>0.093878</td>\n",
       "      <td>[108.03152604983227, 108.03152604983227, 108.0...</td>\n",
       "      <td>[255, 1697, 1105, 13024, 31898, 35377, 7565, 6...</td>\n",
       "    </tr>\n",
       "    <tr>\n",
       "      <th>682</th>\n",
       "      <td>./Multi-class Weather Dataset/Shine/shine25.jpg</td>\n",
       "      <td>Ensoleillé</td>\n",
       "      <td>852</td>\n",
       "      <td>480</td>\n",
       "      <td>0.21004</td>\n",
       "      <td>[100.06668411075077, 131.0842690843153, 167.38...</td>\n",
       "      <td>[2497, 4193, 1729, 11196, 11722, 36659, 11868,...</td>\n",
       "    </tr>\n",
       "    <tr>\n",
       "      <th>224</th>\n",
       "      <td>./Multi-class Weather Dataset/Cloudy/cloudy300...</td>\n",
       "      <td>Nuageux</td>\n",
       "      <td>300</td>\n",
       "      <td>149</td>\n",
       "      <td>0.243915</td>\n",
       "      <td>[147.60495053097446, 163.75665245852932, 187.3...</td>\n",
       "      <td>[437, 2155, 1398, 12525, 25460, 31878, 7130, 6...</td>\n",
       "    </tr>\n",
       "  </tbody>\n",
       "</table>\n",
       "</div>"
      ],
      "text/plain": [
       "                                          Picture Path            Label  \\\n",
       "646   ./Multi-class Weather Dataset/Shine/shine217.jpg       Ensoleillé   \n",
       "892  ./Multi-class Weather Dataset/Sunrise/sunrise2...  Lever du soleil   \n",
       "157  ./Multi-class Weather Dataset/Cloudy/cloudy240...          Nuageux   \n",
       "682    ./Multi-class Weather Dataset/Shine/shine25.jpg       Ensoleillé   \n",
       "224  ./Multi-class Weather Dataset/Cloudy/cloudy300...          Nuageux   \n",
       "\n",
       "     width  height Luminance  \\\n",
       "646    270     169  0.222895   \n",
       "892   3200    1200  0.192201   \n",
       "157    300     138  0.093878   \n",
       "682    852     480   0.21004   \n",
       "224    300     149  0.243915   \n",
       "\n",
       "                                                   RGB  \\\n",
       "646  [65.78350459354296, 123.6077803380873, 157.317...   \n",
       "892  [124.46965440562889, 63.85506010800713, 28.894...   \n",
       "157  [108.03152604983227, 108.03152604983227, 108.0...   \n",
       "682  [100.06668411075077, 131.0842690843153, 167.38...   \n",
       "224  [147.60495053097446, 163.75665245852932, 187.3...   \n",
       "\n",
       "                                                   LBP  \n",
       "646  [975, 3516, 2790, 15257, 27956, 28952, 7851, 7...  \n",
       "892  [7105, 8965, 4416, 10314, 13292, 17099, 8923, ...  \n",
       "157  [255, 1697, 1105, 13024, 31898, 35377, 7565, 6...  \n",
       "682  [2497, 4193, 1729, 11196, 11722, 36659, 11868,...  \n",
       "224  [437, 2155, 1398, 12525, 25460, 31878, 7130, 6...  "
      ]
     },
     "execution_count": 18,
     "metadata": {},
     "output_type": "execute_result"
    }
   ],
   "source": [
    "train_set.head()"
   ]
  },
  {
   "cell_type": "markdown",
   "metadata": {},
   "source": [
    "# Classifier "
   ]
  },
  {
   "cell_type": "code",
   "execution_count": 19,
   "metadata": {},
   "outputs": [
    {
     "data": {
      "text/html": [
       "<style>#sk-container-id-1 {color: black;background-color: white;}#sk-container-id-1 pre{padding: 0;}#sk-container-id-1 div.sk-toggleable {background-color: white;}#sk-container-id-1 label.sk-toggleable__label {cursor: pointer;display: block;width: 100%;margin-bottom: 0;padding: 0.3em;box-sizing: border-box;text-align: center;}#sk-container-id-1 label.sk-toggleable__label-arrow:before {content: \"▸\";float: left;margin-right: 0.25em;color: #696969;}#sk-container-id-1 label.sk-toggleable__label-arrow:hover:before {color: black;}#sk-container-id-1 div.sk-estimator:hover label.sk-toggleable__label-arrow:before {color: black;}#sk-container-id-1 div.sk-toggleable__content {max-height: 0;max-width: 0;overflow: hidden;text-align: left;background-color: #f0f8ff;}#sk-container-id-1 div.sk-toggleable__content pre {margin: 0.2em;color: black;border-radius: 0.25em;background-color: #f0f8ff;}#sk-container-id-1 input.sk-toggleable__control:checked~div.sk-toggleable__content {max-height: 200px;max-width: 100%;overflow: auto;}#sk-container-id-1 input.sk-toggleable__control:checked~label.sk-toggleable__label-arrow:before {content: \"▾\";}#sk-container-id-1 div.sk-estimator input.sk-toggleable__control:checked~label.sk-toggleable__label {background-color: #d4ebff;}#sk-container-id-1 div.sk-label input.sk-toggleable__control:checked~label.sk-toggleable__label {background-color: #d4ebff;}#sk-container-id-1 input.sk-hidden--visually {border: 0;clip: rect(1px 1px 1px 1px);clip: rect(1px, 1px, 1px, 1px);height: 1px;margin: -1px;overflow: hidden;padding: 0;position: absolute;width: 1px;}#sk-container-id-1 div.sk-estimator {font-family: monospace;background-color: #f0f8ff;border: 1px dotted black;border-radius: 0.25em;box-sizing: border-box;margin-bottom: 0.5em;}#sk-container-id-1 div.sk-estimator:hover {background-color: #d4ebff;}#sk-container-id-1 div.sk-parallel-item::after {content: \"\";width: 100%;border-bottom: 1px solid gray;flex-grow: 1;}#sk-container-id-1 div.sk-label:hover label.sk-toggleable__label {background-color: #d4ebff;}#sk-container-id-1 div.sk-serial::before {content: \"\";position: absolute;border-left: 1px solid gray;box-sizing: border-box;top: 0;bottom: 0;left: 50%;z-index: 0;}#sk-container-id-1 div.sk-serial {display: flex;flex-direction: column;align-items: center;background-color: white;padding-right: 0.2em;padding-left: 0.2em;position: relative;}#sk-container-id-1 div.sk-item {position: relative;z-index: 1;}#sk-container-id-1 div.sk-parallel {display: flex;align-items: stretch;justify-content: center;background-color: white;position: relative;}#sk-container-id-1 div.sk-item::before, #sk-container-id-1 div.sk-parallel-item::before {content: \"\";position: absolute;border-left: 1px solid gray;box-sizing: border-box;top: 0;bottom: 0;left: 50%;z-index: -1;}#sk-container-id-1 div.sk-parallel-item {display: flex;flex-direction: column;z-index: 1;position: relative;background-color: white;}#sk-container-id-1 div.sk-parallel-item:first-child::after {align-self: flex-end;width: 50%;}#sk-container-id-1 div.sk-parallel-item:last-child::after {align-self: flex-start;width: 50%;}#sk-container-id-1 div.sk-parallel-item:only-child::after {width: 0;}#sk-container-id-1 div.sk-dashed-wrapped {border: 1px dashed gray;margin: 0 0.4em 0.5em 0.4em;box-sizing: border-box;padding-bottom: 0.4em;background-color: white;}#sk-container-id-1 div.sk-label label {font-family: monospace;font-weight: bold;display: inline-block;line-height: 1.2em;}#sk-container-id-1 div.sk-label-container {text-align: center;}#sk-container-id-1 div.sk-container {/* jupyter's `normalize.less` sets `[hidden] { display: none; }` but bootstrap.min.css set `[hidden] { display: none !important; }` so we also need the `!important` here to be able to override the default hidden behavior on the sphinx rendered scikit-learn.org. See: https://github.com/scikit-learn/scikit-learn/issues/21755 */display: inline-block !important;position: relative;}#sk-container-id-1 div.sk-text-repr-fallback {display: none;}</style><div id=\"sk-container-id-1\" class=\"sk-top-container\"><div class=\"sk-text-repr-fallback\"><pre>KNeighborsClassifier()</pre><b>In a Jupyter environment, please rerun this cell to show the HTML representation or trust the notebook. <br />On GitHub, the HTML representation is unable to render, please try loading this page with nbviewer.org.</b></div><div class=\"sk-container\" hidden><div class=\"sk-item\"><div class=\"sk-estimator sk-toggleable\"><input class=\"sk-toggleable__control sk-hidden--visually\" id=\"sk-estimator-id-1\" type=\"checkbox\" checked><label for=\"sk-estimator-id-1\" class=\"sk-toggleable__label sk-toggleable__label-arrow\">KNeighborsClassifier</label><div class=\"sk-toggleable__content\"><pre>KNeighborsClassifier()</pre></div></div></div></div></div>"
      ],
      "text/plain": [
       "KNeighborsClassifier()"
      ]
     },
     "execution_count": 19,
     "metadata": {},
     "output_type": "execute_result"
    }
   ],
   "source": [
    "from sklearn.neighbors import KNeighborsClassifier\n",
    "from sklearn.metrics import accuracy_score\n",
    "\n",
    "X_train_rgb = np.array(train_set['RGB'].values.tolist())\n",
    "X_train_lbp = np.array(train_set['LBP'].values.tolist())\n",
    "X_train_luminance = np.array(train_set['Luminance'].values.tolist())\n",
    "\n",
    "X_train = np.column_stack((X_train_rgb, X_train_lbp, X_train_luminance))\n",
    "y_train = train_set['Label']\n",
    "\n",
    "knn = KNeighborsClassifier(n_neighbors=5)\n",
    "knn.fit(X_train, y_train)"
   ]
  },
  {
   "cell_type": "code",
   "execution_count": 20,
   "metadata": {},
   "outputs": [
    {
     "name": "stdout",
     "output_type": "stream",
     "text": [
      "Accuracy: 0.6517857142857143\n"
     ]
    }
   ],
   "source": [
    "X_test_rgb = np.array(test_set['RGB'].values.tolist())\n",
    "X_test_lbp = np.array(test_set['LBP'].values.tolist())\n",
    "X_test_luminance = np.array(test_set['Luminance'].values.tolist())\n",
    "\n",
    "X_test = np.column_stack((X_test_rgb, X_test_lbp, X_test_luminance))\n",
    "y_test = test_set['Label']\n",
    "\n",
    "y_pred = knn.predict(X_test)\n",
    "\n",
    "accuracy = accuracy_score(y_test, y_pred)\n",
    "print(\"Accuracy:\", accuracy)\n"
   ]
  },
  {
   "cell_type": "code",
   "execution_count": 21,
   "metadata": {},
   "outputs": [
    {
     "name": "stdout",
     "output_type": "stream",
     "text": [
      "F1 Score: 0.6569408400143437\n"
     ]
    }
   ],
   "source": [
    "from sklearn.metrics import f1_score\n",
    "\n",
    "f1 = f1_score(y_test, y_pred, average='weighted')\n",
    "print(\"F1 Score:\", f1)\n"
   ]
  },
  {
   "cell_type": "code",
   "execution_count": 22,
   "metadata": {},
   "outputs": [
    {
     "name": "stdout",
     "output_type": "stream",
     "text": [
      "[[28 13  6  4]\n",
      " [18 45  6  2]\n",
      " [12  3 41  3]\n",
      " [ 4  6  1 32]]\n"
     ]
    }
   ],
   "source": [
    "from sklearn.metrics import confusion_matrix\n",
    "\n",
    "cm = confusion_matrix(y_test, y_pred)\n",
    "print(cm)\n"
   ]
  },
  {
   "cell_type": "code",
   "execution_count": 23,
   "metadata": {},
   "outputs": [
    {
     "data": {
      "text/plain": [
       "Lever du soleil    286\n",
       "Nuageux            239\n",
       "Ensoleillé         201\n",
       "Pluvieux           171\n",
       "Name: Label, dtype: int64"
      ]
     },
     "execution_count": 23,
     "metadata": {},
     "output_type": "execute_result"
    }
   ],
   "source": [
    "train_set[\"Label\"].value_counts()"
   ]
  },
  {
   "cell_type": "code",
   "execution_count": 24,
   "metadata": {},
   "outputs": [
    {
     "data": {
      "text/plain": [
       "[Text(0, 0.5, 'Lever du soleil'),\n",
       " Text(0, 1.5, 'Nuageux'),\n",
       " Text(0, 2.5, 'Ensoleillé'),\n",
       " Text(0, 3.5, 'Pluvieux')]"
      ]
     },
     "execution_count": 24,
     "metadata": {},
     "output_type": "execute_result"
    },
    {
     "data": {
      "image/png": "[encoded data removed]",
      "text/plain": [
       "<Figure size 640x480 with 2 Axes>"
      ]
     },
     "metadata": {},
     "output_type": "display_data"
    }
   ],
   "source": [
    "import seaborn as sns\n",
    "ax = plt.subplot()\n",
    "sns.heatmap(cm, vmin=0, vmax=26, center=10, cmap=plt.cm.Blues, annot=True)\n",
    "ax.set_xlabel('Predicted Labels');ax.set_ylabel('True Labels')\n",
    "ax.set_title('Confusion Matrix')\n",
    "ax.xaxis.set_ticklabels(['Lever du soleil', 'Nuageux', \"Ensoleillé\", 'Pluvieux'])\n",
    "ax.yaxis.set_ticklabels(['Lever du soleil', 'Nuageux', \"Ensoleillé\", 'Pluvieux'])"
   ]
  },
  {
   "cell_type": "markdown",
   "metadata": {},
   "source": [
    "# Model Hyperparameters"
   ]
  },
  {
   "cell_type": "code",
   "execution_count": null,
   "metadata": {},
   "outputs": [],
   "source": []
  }
 ],
 "metadata": {
  "kernelspec": {
   "display_name": "Python 3",
   "language": "python",
   "name": "python3"
  },
  "language_info": {
   "codemirror_mode": {
    "name": "ipython",
    "version": 3
   },
   "file_extension": ".py",
   "mimetype": "text/x-python",
   "name": "python",
   "nbconvert_exporter": "python",
   "pygments_lexer": "ipython3",
   "version": "3.11.3"
  }
 },
 "nbformat": 4,
 "nbformat_minor": 2
}
