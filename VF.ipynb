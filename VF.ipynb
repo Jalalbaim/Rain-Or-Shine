{
 "cells": [
  {
   "cell_type": "markdown",
   "metadata": {},
   "source": [
    "# Classifictation model "
   ]
  },
  {
   "cell_type": "code",
   "execution_count": 59,
   "metadata": {},
   "outputs": [],
   "source": [
    "%reset -f"
   ]
  },
  {
   "cell_type": "code",
   "execution_count": 60,
   "metadata": {},
   "outputs": [],
   "source": [
    "checkpoint = []"
   ]
  },
  {
   "cell_type": "code",
   "execution_count": 61,
   "metadata": {},
   "outputs": [
    {
     "name": "stdout",
     "output_type": "stream",
     "text": [
      "Modules Successfully Loaded\n"
     ]
    }
   ],
   "source": [
    "# Libraries\n",
    "\n",
    "import os\n",
    "from PIL import Image\n",
    "import itertools\n",
    "\n",
    "import cv2\n",
    "from skimage import io, color, filters\n",
    "from skimage.feature import local_binary_pattern\n",
    "import numpy as np \n",
    "import pandas as pd \n",
    "import seaborn as sn\n",
    "import matplotlib.pyplot as plt\n",
    "from sklearn.model_selection import train_test_split\n",
    "from sklearn.metrics import confusion_matrix, classification_report\n",
    "\n",
    "import tensorflow as tf\n",
    "from tensorflow import keras\n",
    "from tensorflow.keras.preprocessing.image import ImageDataGenerator\n",
    "\n",
    "\n",
    "import warnings\n",
    "warnings.filterwarnings('ignore')\n",
    "\n",
    "print('Modules Successfully Loaded')"
   ]
  },
  {
   "cell_type": "markdown",
   "metadata": {},
   "source": [
    "## Dataset "
   ]
  },
  {
   "cell_type": "code",
   "execution_count": 62,
   "metadata": {},
   "outputs": [
    {
     "data": {
      "text/html": [
       "<div>\n",
       "<style scoped>\n",
       "    .dataframe tbody tr th:only-of-type {\n",
       "        vertical-align: middle;\n",
       "    }\n",
       "\n",
       "    .dataframe tbody tr th {\n",
       "        vertical-align: top;\n",
       "    }\n",
       "\n",
       "    .dataframe thead th {\n",
       "        text-align: right;\n",
       "    }\n",
       "</style>\n",
       "<table border=\"1\" class=\"dataframe\">\n",
       "  <thead>\n",
       "    <tr style=\"text-align: right;\">\n",
       "      <th></th>\n",
       "      <th>Picture Path</th>\n",
       "      <th>Label</th>\n",
       "    </tr>\n",
       "  </thead>\n",
       "  <tbody>\n",
       "    <tr>\n",
       "      <th>0</th>\n",
       "      <td>./Multi-class Weather Dataset/Cloudy/cloudy1.jpg</td>\n",
       "      <td>Cloudy</td>\n",
       "    </tr>\n",
       "    <tr>\n",
       "      <th>1</th>\n",
       "      <td>./Multi-class Weather Dataset/Cloudy/cloudy10.jpg</td>\n",
       "      <td>Cloudy</td>\n",
       "    </tr>\n",
       "    <tr>\n",
       "      <th>2</th>\n",
       "      <td>./Multi-class Weather Dataset/Cloudy/cloudy100...</td>\n",
       "      <td>Cloudy</td>\n",
       "    </tr>\n",
       "    <tr>\n",
       "      <th>3</th>\n",
       "      <td>./Multi-class Weather Dataset/Cloudy/cloudy101...</td>\n",
       "      <td>Cloudy</td>\n",
       "    </tr>\n",
       "    <tr>\n",
       "      <th>4</th>\n",
       "      <td>./Multi-class Weather Dataset/Cloudy/cloudy102...</td>\n",
       "      <td>Cloudy</td>\n",
       "    </tr>\n",
       "  </tbody>\n",
       "</table>\n",
       "</div>"
      ],
      "text/plain": [
       "                                        Picture Path   Label\n",
       "0   ./Multi-class Weather Dataset/Cloudy/cloudy1.jpg  Cloudy\n",
       "1  ./Multi-class Weather Dataset/Cloudy/cloudy10.jpg  Cloudy\n",
       "2  ./Multi-class Weather Dataset/Cloudy/cloudy100...  Cloudy\n",
       "3  ./Multi-class Weather Dataset/Cloudy/cloudy101...  Cloudy\n",
       "4  ./Multi-class Weather Dataset/Cloudy/cloudy102...  Cloudy"
      ]
     },
     "execution_count": 62,
     "metadata": {},
     "output_type": "execute_result"
    }
   ],
   "source": [
    "data_dir= \"./Multi-class Weather Dataset\"\n",
    "paths = []\n",
    "labels = []\n",
    "folds = os.listdir(data_dir)\n",
    "for fold in folds :\n",
    "    condition_path = data_dir +\"/\" + fold\n",
    "    all_pic = os.listdir(condition_path)\n",
    "    for each_pic in all_pic:\n",
    "        each_pic_path = condition_path +\"/\" + each_pic\n",
    "        paths.append(each_pic_path)\n",
    "        labels.append(fold)\n",
    "        \n",
    "pseries = pd.Series(paths, name='Picture Path')\n",
    "lseries = pd.Series(labels, name='Label')\n",
    "\n",
    "df = pd.concat([pseries, lseries], axis =1)\n",
    "df.head()"
   ]
  },
  {
   "cell_type": "code",
   "execution_count": 63,
   "metadata": {},
   "outputs": [
    {
     "data": {
      "text/html": [
       "<div>\n",
       "<style scoped>\n",
       "    .dataframe tbody tr th:only-of-type {\n",
       "        vertical-align: middle;\n",
       "    }\n",
       "\n",
       "    .dataframe tbody tr th {\n",
       "        vertical-align: top;\n",
       "    }\n",
       "\n",
       "    .dataframe thead th {\n",
       "        text-align: right;\n",
       "    }\n",
       "</style>\n",
       "<table border=\"1\" class=\"dataframe\">\n",
       "  <thead>\n",
       "    <tr style=\"text-align: right;\">\n",
       "      <th></th>\n",
       "      <th>Picture Path</th>\n",
       "      <th>Label</th>\n",
       "    </tr>\n",
       "  </thead>\n",
       "  <tbody>\n",
       "    <tr>\n",
       "      <th>0</th>\n",
       "      <td>./Multi-class Weather Dataset/Cloudy/cloudy1.jpg</td>\n",
       "      <td>Nuageux</td>\n",
       "    </tr>\n",
       "    <tr>\n",
       "      <th>1</th>\n",
       "      <td>./Multi-class Weather Dataset/Cloudy/cloudy10.jpg</td>\n",
       "      <td>Nuageux</td>\n",
       "    </tr>\n",
       "    <tr>\n",
       "      <th>2</th>\n",
       "      <td>./Multi-class Weather Dataset/Cloudy/cloudy100...</td>\n",
       "      <td>Nuageux</td>\n",
       "    </tr>\n",
       "    <tr>\n",
       "      <th>3</th>\n",
       "      <td>./Multi-class Weather Dataset/Cloudy/cloudy101...</td>\n",
       "      <td>Nuageux</td>\n",
       "    </tr>\n",
       "    <tr>\n",
       "      <th>4</th>\n",
       "      <td>./Multi-class Weather Dataset/Cloudy/cloudy102...</td>\n",
       "      <td>Nuageux</td>\n",
       "    </tr>\n",
       "    <tr>\n",
       "      <th>...</th>\n",
       "      <td>...</td>\n",
       "      <td>...</td>\n",
       "    </tr>\n",
       "    <tr>\n",
       "      <th>1120</th>\n",
       "      <td>./Multi-class Weather Dataset/Sunrise/sunrise9...</td>\n",
       "      <td>Lever du soleil</td>\n",
       "    </tr>\n",
       "    <tr>\n",
       "      <th>1121</th>\n",
       "      <td>./Multi-class Weather Dataset/Sunrise/sunrise9...</td>\n",
       "      <td>Lever du soleil</td>\n",
       "    </tr>\n",
       "    <tr>\n",
       "      <th>1122</th>\n",
       "      <td>./Multi-class Weather Dataset/Sunrise/sunrise9...</td>\n",
       "      <td>Lever du soleil</td>\n",
       "    </tr>\n",
       "    <tr>\n",
       "      <th>1123</th>\n",
       "      <td>./Multi-class Weather Dataset/Sunrise/sunrise9...</td>\n",
       "      <td>Lever du soleil</td>\n",
       "    </tr>\n",
       "    <tr>\n",
       "      <th>1124</th>\n",
       "      <td>./Multi-class Weather Dataset/Sunrise/sunrise9...</td>\n",
       "      <td>Lever du soleil</td>\n",
       "    </tr>\n",
       "  </tbody>\n",
       "</table>\n",
       "<p>1125 rows × 2 columns</p>\n",
       "</div>"
      ],
      "text/plain": [
       "                                           Picture Path            Label\n",
       "0      ./Multi-class Weather Dataset/Cloudy/cloudy1.jpg          Nuageux\n",
       "1     ./Multi-class Weather Dataset/Cloudy/cloudy10.jpg          Nuageux\n",
       "2     ./Multi-class Weather Dataset/Cloudy/cloudy100...          Nuageux\n",
       "3     ./Multi-class Weather Dataset/Cloudy/cloudy101...          Nuageux\n",
       "4     ./Multi-class Weather Dataset/Cloudy/cloudy102...          Nuageux\n",
       "...                                                 ...              ...\n",
       "1120  ./Multi-class Weather Dataset/Sunrise/sunrise9...  Lever du soleil\n",
       "1121  ./Multi-class Weather Dataset/Sunrise/sunrise9...  Lever du soleil\n",
       "1122  ./Multi-class Weather Dataset/Sunrise/sunrise9...  Lever du soleil\n",
       "1123  ./Multi-class Weather Dataset/Sunrise/sunrise9...  Lever du soleil\n",
       "1124  ./Multi-class Weather Dataset/Sunrise/sunrise9...  Lever du soleil\n",
       "\n",
       "[1125 rows x 2 columns]"
      ]
     },
     "execution_count": 63,
     "metadata": {},
     "output_type": "execute_result"
    }
   ],
   "source": [
    "# Convert the labels to French\n",
    "df['Label'] = df['Label'].replace({'Cloudy': 'Nuageux', 'Rain': 'Pluvieux', 'Shine': 'Ensoleillé', 'Sunrise': 'Lever du soleil'})\n",
    "df"
   ]
  },
  {
   "cell_type": "code",
   "execution_count": 64,
   "metadata": {},
   "outputs": [
    {
     "data": {
      "text/html": [
       "<div>\n",
       "<style scoped>\n",
       "    .dataframe tbody tr th:only-of-type {\n",
       "        vertical-align: middle;\n",
       "    }\n",
       "\n",
       "    .dataframe tbody tr th {\n",
       "        vertical-align: top;\n",
       "    }\n",
       "\n",
       "    .dataframe thead th {\n",
       "        text-align: right;\n",
       "    }\n",
       "</style>\n",
       "<table border=\"1\" class=\"dataframe\">\n",
       "  <thead>\n",
       "    <tr style=\"text-align: right;\">\n",
       "      <th></th>\n",
       "      <th>Picture Path</th>\n",
       "      <th>Label</th>\n",
       "      <th>width</th>\n",
       "      <th>height</th>\n",
       "    </tr>\n",
       "  </thead>\n",
       "  <tbody>\n",
       "    <tr>\n",
       "      <th>0</th>\n",
       "      <td>./Multi-class Weather Dataset/Cloudy/cloudy1.jpg</td>\n",
       "      <td>Nuageux</td>\n",
       "      <td>600</td>\n",
       "      <td>400</td>\n",
       "    </tr>\n",
       "    <tr>\n",
       "      <th>1</th>\n",
       "      <td>./Multi-class Weather Dataset/Cloudy/cloudy10.jpg</td>\n",
       "      <td>Nuageux</td>\n",
       "      <td>271</td>\n",
       "      <td>186</td>\n",
       "    </tr>\n",
       "    <tr>\n",
       "      <th>2</th>\n",
       "      <td>./Multi-class Weather Dataset/Cloudy/cloudy100...</td>\n",
       "      <td>Nuageux</td>\n",
       "      <td>259</td>\n",
       "      <td>194</td>\n",
       "    </tr>\n",
       "    <tr>\n",
       "      <th>3</th>\n",
       "      <td>./Multi-class Weather Dataset/Cloudy/cloudy101...</td>\n",
       "      <td>Nuageux</td>\n",
       "      <td>338</td>\n",
       "      <td>149</td>\n",
       "    </tr>\n",
       "    <tr>\n",
       "      <th>4</th>\n",
       "      <td>./Multi-class Weather Dataset/Cloudy/cloudy102...</td>\n",
       "      <td>Nuageux</td>\n",
       "      <td>800</td>\n",
       "      <td>377</td>\n",
       "    </tr>\n",
       "  </tbody>\n",
       "</table>\n",
       "</div>"
      ],
      "text/plain": [
       "                                        Picture Path    Label  width  height\n",
       "0   ./Multi-class Weather Dataset/Cloudy/cloudy1.jpg  Nuageux    600     400\n",
       "1  ./Multi-class Weather Dataset/Cloudy/cloudy10.jpg  Nuageux    271     186\n",
       "2  ./Multi-class Weather Dataset/Cloudy/cloudy100...  Nuageux    259     194\n",
       "3  ./Multi-class Weather Dataset/Cloudy/cloudy101...  Nuageux    338     149\n",
       "4  ./Multi-class Weather Dataset/Cloudy/cloudy102...  Nuageux    800     377"
      ]
     },
     "execution_count": 64,
     "metadata": {},
     "output_type": "execute_result"
    }
   ],
   "source": [
    "\n",
    "# Function to get image dimensions\n",
    "def get_image_dimensions(image_path):\n",
    "    with Image.open(image_path) as img:\n",
    "        width, height = img.size\n",
    "    return width, height \n",
    "\n",
    "# Add columns to dataframe\n",
    "df['width'], df['height'] = zip(*df['Picture Path'].map(get_image_dimensions))\n",
    "\n",
    "df.head()"
   ]
  },
  {
   "cell_type": "markdown",
   "metadata": {},
   "source": [
    "# Train Test Split (80% - 20%)"
   ]
  },
  {
   "cell_type": "code",
   "execution_count": 65,
   "metadata": {},
   "outputs": [],
   "source": [
    "train_set, test_set = train_test_split(df, test_size=0.2, shuffle=True, stratify=df[\"Label\"], random_state=42)"
   ]
  },
  {
   "cell_type": "code",
   "execution_count": 66,
   "metadata": {},
   "outputs": [
    {
     "data": {
      "text/html": [
       "<div>\n",
       "<style scoped>\n",
       "    .dataframe tbody tr th:only-of-type {\n",
       "        vertical-align: middle;\n",
       "    }\n",
       "\n",
       "    .dataframe tbody tr th {\n",
       "        vertical-align: top;\n",
       "    }\n",
       "\n",
       "    .dataframe thead th {\n",
       "        text-align: right;\n",
       "    }\n",
       "</style>\n",
       "<table border=\"1\" class=\"dataframe\">\n",
       "  <thead>\n",
       "    <tr style=\"text-align: right;\">\n",
       "      <th></th>\n",
       "      <th>Picture Path</th>\n",
       "      <th>Label</th>\n",
       "      <th>width</th>\n",
       "      <th>height</th>\n",
       "    </tr>\n",
       "  </thead>\n",
       "  <tbody>\n",
       "    <tr>\n",
       "      <th>646</th>\n",
       "      <td>./Multi-class Weather Dataset/Shine/shine217.jpg</td>\n",
       "      <td>Ensoleillé</td>\n",
       "      <td>270</td>\n",
       "      <td>169</td>\n",
       "    </tr>\n",
       "    <tr>\n",
       "      <th>892</th>\n",
       "      <td>./Multi-class Weather Dataset/Sunrise/sunrise2...</td>\n",
       "      <td>Lever du soleil</td>\n",
       "      <td>3200</td>\n",
       "      <td>1200</td>\n",
       "    </tr>\n",
       "    <tr>\n",
       "      <th>157</th>\n",
       "      <td>./Multi-class Weather Dataset/Cloudy/cloudy240...</td>\n",
       "      <td>Nuageux</td>\n",
       "      <td>300</td>\n",
       "      <td>138</td>\n",
       "    </tr>\n",
       "    <tr>\n",
       "      <th>682</th>\n",
       "      <td>./Multi-class Weather Dataset/Shine/shine25.jpg</td>\n",
       "      <td>Ensoleillé</td>\n",
       "      <td>852</td>\n",
       "      <td>480</td>\n",
       "    </tr>\n",
       "    <tr>\n",
       "      <th>224</th>\n",
       "      <td>./Multi-class Weather Dataset/Cloudy/cloudy300...</td>\n",
       "      <td>Nuageux</td>\n",
       "      <td>300</td>\n",
       "      <td>149</td>\n",
       "    </tr>\n",
       "  </tbody>\n",
       "</table>\n",
       "</div>"
      ],
      "text/plain": [
       "                                          Picture Path            Label  \\\n",
       "646   ./Multi-class Weather Dataset/Shine/shine217.jpg       Ensoleillé   \n",
       "892  ./Multi-class Weather Dataset/Sunrise/sunrise2...  Lever du soleil   \n",
       "157  ./Multi-class Weather Dataset/Cloudy/cloudy240...          Nuageux   \n",
       "682    ./Multi-class Weather Dataset/Shine/shine25.jpg       Ensoleillé   \n",
       "224  ./Multi-class Weather Dataset/Cloudy/cloudy300...          Nuageux   \n",
       "\n",
       "     width  height  \n",
       "646    270     169  \n",
       "892   3200    1200  \n",
       "157    300     138  \n",
       "682    852     480  \n",
       "224    300     149  "
      ]
     },
     "execution_count": 66,
     "metadata": {},
     "output_type": "execute_result"
    }
   ],
   "source": [
    "train_set.head()"
   ]
  },
  {
   "cell_type": "code",
   "execution_count": 67,
   "metadata": {},
   "outputs": [
    {
     "data": {
      "text/html": [
       "<div>\n",
       "<style scoped>\n",
       "    .dataframe tbody tr th:only-of-type {\n",
       "        vertical-align: middle;\n",
       "    }\n",
       "\n",
       "    .dataframe tbody tr th {\n",
       "        vertical-align: top;\n",
       "    }\n",
       "\n",
       "    .dataframe thead th {\n",
       "        text-align: right;\n",
       "    }\n",
       "</style>\n",
       "<table border=\"1\" class=\"dataframe\">\n",
       "  <thead>\n",
       "    <tr style=\"text-align: right;\">\n",
       "      <th></th>\n",
       "      <th>Picture Path</th>\n",
       "      <th>Label</th>\n",
       "      <th>width</th>\n",
       "      <th>height</th>\n",
       "    </tr>\n",
       "  </thead>\n",
       "  <tbody>\n",
       "    <tr>\n",
       "      <th>412</th>\n",
       "      <td>./Multi-class Weather Dataset/Rain/rain20.jpg</td>\n",
       "      <td>Pluvieux</td>\n",
       "      <td>620</td>\n",
       "      <td>413</td>\n",
       "    </tr>\n",
       "    <tr>\n",
       "      <th>645</th>\n",
       "      <td>./Multi-class Weather Dataset/Shine/shine216.jpg</td>\n",
       "      <td>Ensoleillé</td>\n",
       "      <td>230</td>\n",
       "      <td>153</td>\n",
       "    </tr>\n",
       "    <tr>\n",
       "      <th>90</th>\n",
       "      <td>./Multi-class Weather Dataset/Cloudy/cloudy180...</td>\n",
       "      <td>Nuageux</td>\n",
       "      <td>261</td>\n",
       "      <td>175</td>\n",
       "    </tr>\n",
       "    <tr>\n",
       "      <th>717</th>\n",
       "      <td>./Multi-class Weather Dataset/Shine/shine53.jpg</td>\n",
       "      <td>Ensoleillé</td>\n",
       "      <td>284</td>\n",
       "      <td>177</td>\n",
       "    </tr>\n",
       "    <tr>\n",
       "      <th>393</th>\n",
       "      <td>./Multi-class Weather Dataset/Rain/rain183.jpg</td>\n",
       "      <td>Pluvieux</td>\n",
       "      <td>630</td>\n",
       "      <td>446</td>\n",
       "    </tr>\n",
       "  </tbody>\n",
       "</table>\n",
       "</div>"
      ],
      "text/plain": [
       "                                          Picture Path       Label  width  \\\n",
       "412      ./Multi-class Weather Dataset/Rain/rain20.jpg    Pluvieux    620   \n",
       "645   ./Multi-class Weather Dataset/Shine/shine216.jpg  Ensoleillé    230   \n",
       "90   ./Multi-class Weather Dataset/Cloudy/cloudy180...     Nuageux    261   \n",
       "717    ./Multi-class Weather Dataset/Shine/shine53.jpg  Ensoleillé    284   \n",
       "393     ./Multi-class Weather Dataset/Rain/rain183.jpg    Pluvieux    630   \n",
       "\n",
       "     height  \n",
       "412     413  \n",
       "645     153  \n",
       "90      175  \n",
       "717     177  \n",
       "393     446  "
      ]
     },
     "execution_count": 67,
     "metadata": {},
     "output_type": "execute_result"
    }
   ],
   "source": [
    "test_set.head()"
   ]
  },
  {
   "cell_type": "markdown",
   "metadata": {},
   "source": [
    "# Image Data generator"
   ]
  },
  {
   "cell_type": "code",
   "execution_count": 68,
   "metadata": {},
   "outputs": [
    {
     "name": "stdout",
     "output_type": "stream",
     "text": [
      "Train Set:\n",
      "Found 900 validated image filenames belonging to 4 classes.\n",
      "Test Set:\n",
      "Found 225 validated image filenames belonging to 4 classes.\n"
     ]
    }
   ],
   "source": [
    "batch_size = 64\n",
    "img_size = (224, 224)\n",
    "channels = 3\n",
    "img_shape = (img_size[0], img_size[1], channels)\n",
    "tr_gen = ImageDataGenerator()\n",
    "ts_gen = ImageDataGenerator()\n",
    "\n",
    "print(\"Train Set:\")\n",
    "train_gen = tr_gen.flow_from_dataframe(train_set, x_col='Picture Path', y_col='Label', target_size=img_size, class_mode='categorical',\n",
    "                                       color_mode='rgb', shuffle=True, batch_size=batch_size)\n",
    "\n",
    "\n",
    "print(\"Test Set:\")\n",
    "test_gen = ts_gen.flow_from_dataframe(test_set, x_col='Picture Path', y_col='Label', target_size=img_size, class_mode='categorical',\n",
    "                                      color_mode='rgb', shuffle=False, batch_size=batch_size)\n"
   ]
  },
  {
   "cell_type": "markdown",
   "metadata": {},
   "source": [
    "# Caracteristiques"
   ]
  },
  {
   "cell_type": "code",
   "execution_count": 69,
   "metadata": {},
   "outputs": [],
   "source": [
    "def resize_and_crop_top(path, new_width=507, new_height=335):\n",
    "    \"\"\"\n",
    "    Resize the image to the specified dimensions and keep only the top 70% of the image.\n",
    "    \n",
    "    Args:\n",
    "    - image: numpy array representing the image.\n",
    "    - new_width: desired width after resizing.\n",
    "    - new_height: desired height after resizing.\n",
    "    \n",
    "    Returns:\n",
    "    - Resized and cropped image.\n",
    "    \"\"\"\n",
    "    image = io.imread(path)\n",
    "    # Resize the image to the desired dimensions without interpolation\n",
    "    resized_image = cv2.resize(image, (new_width, new_height))\n",
    "    \n",
    "    # Calculate the new height to keep only the top 70%\n",
    "    cropped_height = int(new_height * 0.7)\n",
    "    \n",
    "    # Crop the image to keep only the top 70%\n",
    "    cropped_image = resized_image[:cropped_height, :]\n",
    "    \n",
    "    return cropped_image"
   ]
  },
  {
   "cell_type": "code",
   "execution_count": 70,
   "metadata": {},
   "outputs": [],
   "source": [
    "\n",
    "def resize_images(folder_path, target_size):\n",
    "\n",
    "    # Parcourir toutes les images dans le dossier\n",
    "    for filename in os.listdir(folder_path):\n",
    "        if filename is not None:\n",
    "            image_path = os.path.join(folder_path, filename)\n",
    "            \n",
    "            # Vérifier si le fichier est une image\n",
    "            if os.path.isfile(image_path) and filename.lower().endswith(('.png', '.jpg', '.jpeg', '.bmp',)) :\n",
    "                \n",
    "                # Charger l'image\n",
    "                image = cv2.imread(image_path)\n",
    "\n",
    "                # Vérifier si l'image est correctement chargée\n",
    "                if image is not None:\n",
    "                    # Redimensionner l'image à la nouvelle taille\n",
    "                    resized_image = cv2.resize(image, target_size, interpolation=cv2.INTER_AREA)\n",
    "                    \n",
    "                    # Enregistrer l'image redimensionnée\n",
    "                    cv2.imwrite(image_path, resized_image)\n",
    "                else:\n",
    "                    print(f\"Impossible de charger l'image : {image_path}\")\n",
    "\n",
    "    print(\"Toutes les images ont été redimensionnées avec succès.\")"
   ]
  },
  {
   "cell_type": "code",
   "execution_count": 71,
   "metadata": {},
   "outputs": [],
   "source": [
    "def get_luminance(image):\n",
    "    # Check if the image has an alpha channel\n",
    "    if image.shape[2] == 4:\n",
    "        # Remove the alpha channel\n",
    "        image = image[:, :, :3]\n",
    "    gray_image = color.rgb2gray(image)\n",
    "    luminance_mean = np.std(gray_image)\n",
    "    return luminance_mean  \n",
    "\n",
    "\n",
    "def get_histogram(image):\n",
    "    red_channel = image[:, :, 0]\n",
    "    green_channel = image[:, :, 1]\n",
    "    blue_channel = image[:, :, 2]\n",
    "\n",
    "    # Calculate marginal histograms\n",
    "    red_hist, red_bins = np.histogram(red_channel.ravel(), bins=256)\n",
    "    green_hist, green_bins = np.histogram(green_channel.ravel(), bins=256)\n",
    "    blue_hist, blue_bins = np.histogram(blue_channel.ravel(), bins=256)\n",
    "\n",
    "    # Calculate the means of each channel\n",
    "    red_mean = np.average(red_bins[:-1], weights=red_hist)\n",
    "    green_mean = np.average(green_bins[:-1], weights=green_hist)\n",
    "    blue_mean = np.average(blue_bins[:-1], weights=blue_hist)\n",
    "\n",
    "    return [red_mean, green_mean, blue_mean]\n"
   ]
  },
  {
   "cell_type": "code",
   "execution_count": 72,
   "metadata": {},
   "outputs": [],
   "source": [
    "def calculate_lbp_histogram(image, n_points=8, radius=1, method='uniform'):\n",
    "    image = cv2.cvtColor(image, cv2.COLOR_BGR2GRAY)\n",
    "    # Calculate LBP patterns\n",
    "    lbp = local_binary_pattern(image, n_points, radius, method)\n",
    "\n",
    "    # Calculate the histogram of LBP patterns\n",
    "    n_bins = int(lbp.max() + 1)\n",
    "    hist, _ = np.histogram(lbp.ravel(), bins=n_bins, range=(0, n_bins))\n",
    "    \n",
    "    return hist.tolist()\n"
   ]
  },
  {
   "cell_type": "code",
   "execution_count": 73,
   "metadata": {},
   "outputs": [],
   "source": [
    "# preprocess + process\n",
    "\n",
    "def calculate_luminance(path):\n",
    "    try:\n",
    "        img = resize_and_crop_top(path)\n",
    "        return get_luminance(img)\n",
    "    except Exception as e:\n",
    "        print(f\"Error calculating luminance for image {path}: {str(e)}\")\n",
    "        return None\n",
    "\n",
    "def calculate_histogram(path):\n",
    "    try:\n",
    "        img = resize_and_crop_top(path)\n",
    "        return get_histogram(img)\n",
    "    except Exception as e:\n",
    "        print(f\"Error calculating histogram for image {path}: {str(e)}\")\n",
    "        return None\n",
    "\n",
    "def calculate_LBP(path):\n",
    "    try:\n",
    "        img = resize_and_crop_top(path)\n",
    "        return calculate_lbp_histogram(img, n_points=8, radius=1, method='uniform')\n",
    "    except Exception as e:\n",
    "        print(f\"Error calculating LBP for image {path}: {str(e)}\")\n",
    "        return None\n"
   ]
  },
  {
   "cell_type": "code",
   "execution_count": 74,
   "metadata": {},
   "outputs": [
    {
     "name": "stdout",
     "output_type": "stream",
     "text": [
      "Error calculating luminance for image ./Multi-class Weather Dataset/Shine/shine131.jpg: OpenCV(4.8.1) D:\\a\\opencv-python\\opencv-python\\opencv\\modules\\imgproc\\src\\resize.cpp:3699: error: (-215:Assertion failed) !dsize.empty() in function 'cv::hal::resize'\n",
      "\n",
      "Error calculating histogram for image ./Multi-class Weather Dataset/Shine/shine131.jpg: OpenCV(4.8.1) D:\\a\\opencv-python\\opencv-python\\opencv\\modules\\imgproc\\src\\resize.cpp:3699: error: (-215:Assertion failed) !dsize.empty() in function 'cv::hal::resize'\n",
      "\n",
      "Error calculating LBP for image ./Multi-class Weather Dataset/Shine/shine131.jpg: OpenCV(4.8.1) D:\\a\\opencv-python\\opencv-python\\opencv\\modules\\imgproc\\src\\resize.cpp:3699: error: (-215:Assertion failed) !dsize.empty() in function 'cv::hal::resize'\n",
      "\n",
      "Error calculating luminance for image ./Multi-class Weather Dataset/Cloudy/cloudy66.jpg: tuple index out of range\n",
      "Error calculating histogram for image ./Multi-class Weather Dataset/Cloudy/cloudy66.jpg: too many indices for array: array is 2-dimensional, but 3 were indexed\n",
      "Error calculating LBP for image ./Multi-class Weather Dataset/Cloudy/cloudy66.jpg: OpenCV(4.8.1) d:\\a\\opencv-python\\opencv-python\\opencv\\modules\\imgproc\\src\\color.simd_helpers.hpp:92: error: (-2:Unspecified error) in function '__cdecl cv::impl::`anonymous-namespace'::CvtHelper<struct cv::impl::`anonymous namespace'::Set<3,4,-1>,struct cv::impl::A0xd8611878::Set<1,-1,-1>,struct cv::impl::A0xd8611878::Set<0,2,5>,3>::CvtHelper(const class cv::_InputArray &,const class cv::_OutputArray &,int)'\n",
      "> Invalid number of channels in input image:\n",
      ">     'VScn::contains(scn)'\n",
      "> where\n",
      ">     'scn' is 1\n",
      "\n",
      "Error calculating luminance for image ./Multi-class Weather Dataset/Rain/rain141.jpg: OpenCV(4.8.1) D:\\a\\opencv-python\\opencv-python\\opencv\\modules\\imgproc\\src\\resize.cpp:3699: error: (-215:Assertion failed) !dsize.empty() in function 'cv::hal::resize'\n",
      "\n",
      "Error calculating histogram for image ./Multi-class Weather Dataset/Rain/rain141.jpg: OpenCV(4.8.1) D:\\a\\opencv-python\\opencv-python\\opencv\\modules\\imgproc\\src\\resize.cpp:3699: error: (-215:Assertion failed) !dsize.empty() in function 'cv::hal::resize'\n",
      "\n",
      "Error calculating LBP for image ./Multi-class Weather Dataset/Rain/rain141.jpg: OpenCV(4.8.1) D:\\a\\opencv-python\\opencv-python\\opencv\\modules\\imgproc\\src\\resize.cpp:3699: error: (-215:Assertion failed) !dsize.empty() in function 'cv::hal::resize'\n",
      "\n"
     ]
    }
   ],
   "source": [
    "# Save \n",
    "\n",
    "train_set['Luminance'] = None  \n",
    "train_set['RGB'] = None\n",
    "train_set['LBP'] = None\n",
    "\n",
    "for i in range(len(train_set)):\n",
    "    path = train_set['Picture Path'].iloc[i]\n",
    "    lumin = calculate_luminance(path)\n",
    "    hist = calculate_histogram(path)\n",
    "    lbp = calculate_LBP(path)\n",
    "    train_set['Luminance'].iloc[i] = lumin\n",
    "    train_set['RGB'].iloc[i] = hist\n",
    "    train_set['LBP'].iloc[i] = lbp\n"
   ]
  },
  {
   "cell_type": "code",
   "execution_count": 75,
   "metadata": {},
   "outputs": [
    {
     "name": "stdout",
     "output_type": "stream",
     "text": [
      "Error calculating luminance for image ./Multi-class Weather Dataset/Cloudy/cloudy71.jpg: tuple index out of range\n",
      "Error calculating histogram for image ./Multi-class Weather Dataset/Cloudy/cloudy71.jpg: too many indices for array: array is 2-dimensional, but 3 were indexed\n",
      "Error calculating LBP for image ./Multi-class Weather Dataset/Cloudy/cloudy71.jpg: OpenCV(4.8.1) d:\\a\\opencv-python\\opencv-python\\opencv\\modules\\imgproc\\src\\color.simd_helpers.hpp:92: error: (-2:Unspecified error) in function '__cdecl cv::impl::`anonymous-namespace'::CvtHelper<struct cv::impl::`anonymous namespace'::Set<3,4,-1>,struct cv::impl::A0xd8611878::Set<1,-1,-1>,struct cv::impl::A0xd8611878::Set<0,2,5>,3>::CvtHelper(const class cv::_InputArray &,const class cv::_OutputArray &,int)'\n",
      "> Invalid number of channels in input image:\n",
      ">     'VScn::contains(scn)'\n",
      "> where\n",
      ">     'scn' is 1\n",
      "\n"
     ]
    }
   ],
   "source": [
    "test_set['Luminance'] = None  \n",
    "test_set['RGB'] = None\n",
    "test_set['LBP'] = None\n",
    "\n",
    "for i in range(len(test_set)):\n",
    "    path = test_set['Picture Path'].iloc[i]\n",
    "    lumin = calculate_luminance(path)\n",
    "    hist = calculate_histogram(path)\n",
    "    lbp = calculate_LBP(path)\n",
    "    test_set['Luminance'].iloc[i] = lumin\n",
    "    test_set['RGB'].iloc[i] = hist\n",
    "    test_set['LBP'].iloc[i] = lbp\n"
   ]
  },
  {
   "cell_type": "code",
   "execution_count": 76,
   "metadata": {},
   "outputs": [],
   "source": [
    "train_set = train_set.dropna()\n",
    "test_set = test_set.dropna()\n",
    "#train_set.to_csv('train_set.csv', index=False)\n",
    "#test_set.to_csv('test_set.csv', index=False)"
   ]
  },
  {
   "cell_type": "code",
   "execution_count": 77,
   "metadata": {},
   "outputs": [
    {
     "data": {
      "text/html": [
       "<div>\n",
       "<style scoped>\n",
       "    .dataframe tbody tr th:only-of-type {\n",
       "        vertical-align: middle;\n",
       "    }\n",
       "\n",
       "    .dataframe tbody tr th {\n",
       "        vertical-align: top;\n",
       "    }\n",
       "\n",
       "    .dataframe thead th {\n",
       "        text-align: right;\n",
       "    }\n",
       "</style>\n",
       "<table border=\"1\" class=\"dataframe\">\n",
       "  <thead>\n",
       "    <tr style=\"text-align: right;\">\n",
       "      <th></th>\n",
       "      <th>Picture Path</th>\n",
       "      <th>Label</th>\n",
       "      <th>width</th>\n",
       "      <th>height</th>\n",
       "      <th>Luminance</th>\n",
       "      <th>RGB</th>\n",
       "      <th>LBP</th>\n",
       "    </tr>\n",
       "  </thead>\n",
       "  <tbody>\n",
       "    <tr>\n",
       "      <th>646</th>\n",
       "      <td>./Multi-class Weather Dataset/Shine/shine217.jpg</td>\n",
       "      <td>Ensoleillé</td>\n",
       "      <td>270</td>\n",
       "      <td>169</td>\n",
       "      <td>0.222895</td>\n",
       "      <td>[65.78350459354296, 123.6077803380873, 157.317...</td>\n",
       "      <td>[975, 3516, 2790, 15257, 27956, 28952, 7851, 7...</td>\n",
       "    </tr>\n",
       "    <tr>\n",
       "      <th>892</th>\n",
       "      <td>./Multi-class Weather Dataset/Sunrise/sunrise2...</td>\n",
       "      <td>Lever du soleil</td>\n",
       "      <td>3200</td>\n",
       "      <td>1200</td>\n",
       "      <td>0.192201</td>\n",
       "      <td>[124.46965440562889, 63.85506010800713, 28.894...</td>\n",
       "      <td>[7105, 8965, 4416, 10314, 13292, 17099, 8923, ...</td>\n",
       "    </tr>\n",
       "    <tr>\n",
       "      <th>157</th>\n",
       "      <td>./Multi-class Weather Dataset/Cloudy/cloudy240...</td>\n",
       "      <td>Nuageux</td>\n",
       "      <td>300</td>\n",
       "      <td>138</td>\n",
       "      <td>0.093878</td>\n",
       "      <td>[108.03152604983227, 108.03152604983227, 108.0...</td>\n",
       "      <td>[255, 1697, 1105, 13024, 31898, 35377, 7565, 6...</td>\n",
       "    </tr>\n",
       "    <tr>\n",
       "      <th>682</th>\n",
       "      <td>./Multi-class Weather Dataset/Shine/shine25.jpg</td>\n",
       "      <td>Ensoleillé</td>\n",
       "      <td>852</td>\n",
       "      <td>480</td>\n",
       "      <td>0.21004</td>\n",
       "      <td>[100.06668411075077, 131.0842690843153, 167.38...</td>\n",
       "      <td>[2497, 4193, 1729, 11196, 11722, 36659, 11868,...</td>\n",
       "    </tr>\n",
       "    <tr>\n",
       "      <th>224</th>\n",
       "      <td>./Multi-class Weather Dataset/Cloudy/cloudy300...</td>\n",
       "      <td>Nuageux</td>\n",
       "      <td>300</td>\n",
       "      <td>149</td>\n",
       "      <td>0.243915</td>\n",
       "      <td>[147.60495053097446, 163.75665245852932, 187.3...</td>\n",
       "      <td>[437, 2155, 1398, 12525, 25460, 31878, 7130, 6...</td>\n",
       "    </tr>\n",
       "  </tbody>\n",
       "</table>\n",
       "</div>"
      ],
      "text/plain": [
       "                                          Picture Path            Label  \\\n",
       "646   ./Multi-class Weather Dataset/Shine/shine217.jpg       Ensoleillé   \n",
       "892  ./Multi-class Weather Dataset/Sunrise/sunrise2...  Lever du soleil   \n",
       "157  ./Multi-class Weather Dataset/Cloudy/cloudy240...          Nuageux   \n",
       "682    ./Multi-class Weather Dataset/Shine/shine25.jpg       Ensoleillé   \n",
       "224  ./Multi-class Weather Dataset/Cloudy/cloudy300...          Nuageux   \n",
       "\n",
       "     width  height Luminance  \\\n",
       "646    270     169  0.222895   \n",
       "892   3200    1200  0.192201   \n",
       "157    300     138  0.093878   \n",
       "682    852     480   0.21004   \n",
       "224    300     149  0.243915   \n",
       "\n",
       "                                                   RGB  \\\n",
       "646  [65.78350459354296, 123.6077803380873, 157.317...   \n",
       "892  [124.46965440562889, 63.85506010800713, 28.894...   \n",
       "157  [108.03152604983227, 108.03152604983227, 108.0...   \n",
       "682  [100.06668411075077, 131.0842690843153, 167.38...   \n",
       "224  [147.60495053097446, 163.75665245852932, 187.3...   \n",
       "\n",
       "                                                   LBP  \n",
       "646  [975, 3516, 2790, 15257, 27956, 28952, 7851, 7...  \n",
       "892  [7105, 8965, 4416, 10314, 13292, 17099, 8923, ...  \n",
       "157  [255, 1697, 1105, 13024, 31898, 35377, 7565, 6...  \n",
       "682  [2497, 4193, 1729, 11196, 11722, 36659, 11868,...  \n",
       "224  [437, 2155, 1398, 12525, 25460, 31878, 7130, 6...  "
      ]
     },
     "execution_count": 77,
     "metadata": {},
     "output_type": "execute_result"
    }
   ],
   "source": [
    "train_set.head()"
   ]
  },
  {
   "cell_type": "markdown",
   "metadata": {},
   "source": [
    "# Classifier "
   ]
  },
  {
   "cell_type": "code",
   "execution_count": 78,
   "metadata": {},
   "outputs": [
    {
     "data": {
      "text/html": [
       "<style>#sk-container-id-5 {color: black;background-color: white;}#sk-container-id-5 pre{padding: 0;}#sk-container-id-5 div.sk-toggleable {background-color: white;}#sk-container-id-5 label.sk-toggleable__label {cursor: pointer;display: block;width: 100%;margin-bottom: 0;padding: 0.3em;box-sizing: border-box;text-align: center;}#sk-container-id-5 label.sk-toggleable__label-arrow:before {content: \"▸\";float: left;margin-right: 0.25em;color: #696969;}#sk-container-id-5 label.sk-toggleable__label-arrow:hover:before {color: black;}#sk-container-id-5 div.sk-estimator:hover label.sk-toggleable__label-arrow:before {color: black;}#sk-container-id-5 div.sk-toggleable__content {max-height: 0;max-width: 0;overflow: hidden;text-align: left;background-color: #f0f8ff;}#sk-container-id-5 div.sk-toggleable__content pre {margin: 0.2em;color: black;border-radius: 0.25em;background-color: #f0f8ff;}#sk-container-id-5 input.sk-toggleable__control:checked~div.sk-toggleable__content {max-height: 200px;max-width: 100%;overflow: auto;}#sk-container-id-5 input.sk-toggleable__control:checked~label.sk-toggleable__label-arrow:before {content: \"▾\";}#sk-container-id-5 div.sk-estimator input.sk-toggleable__control:checked~label.sk-toggleable__label {background-color: #d4ebff;}#sk-container-id-5 div.sk-label input.sk-toggleable__control:checked~label.sk-toggleable__label {background-color: #d4ebff;}#sk-container-id-5 input.sk-hidden--visually {border: 0;clip: rect(1px 1px 1px 1px);clip: rect(1px, 1px, 1px, 1px);height: 1px;margin: -1px;overflow: hidden;padding: 0;position: absolute;width: 1px;}#sk-container-id-5 div.sk-estimator {font-family: monospace;background-color: #f0f8ff;border: 1px dotted black;border-radius: 0.25em;box-sizing: border-box;margin-bottom: 0.5em;}#sk-container-id-5 div.sk-estimator:hover {background-color: #d4ebff;}#sk-container-id-5 div.sk-parallel-item::after {content: \"\";width: 100%;border-bottom: 1px solid gray;flex-grow: 1;}#sk-container-id-5 div.sk-label:hover label.sk-toggleable__label {background-color: #d4ebff;}#sk-container-id-5 div.sk-serial::before {content: \"\";position: absolute;border-left: 1px solid gray;box-sizing: border-box;top: 0;bottom: 0;left: 50%;z-index: 0;}#sk-container-id-5 div.sk-serial {display: flex;flex-direction: column;align-items: center;background-color: white;padding-right: 0.2em;padding-left: 0.2em;position: relative;}#sk-container-id-5 div.sk-item {position: relative;z-index: 1;}#sk-container-id-5 div.sk-parallel {display: flex;align-items: stretch;justify-content: center;background-color: white;position: relative;}#sk-container-id-5 div.sk-item::before, #sk-container-id-5 div.sk-parallel-item::before {content: \"\";position: absolute;border-left: 1px solid gray;box-sizing: border-box;top: 0;bottom: 0;left: 50%;z-index: -1;}#sk-container-id-5 div.sk-parallel-item {display: flex;flex-direction: column;z-index: 1;position: relative;background-color: white;}#sk-container-id-5 div.sk-parallel-item:first-child::after {align-self: flex-end;width: 50%;}#sk-container-id-5 div.sk-parallel-item:last-child::after {align-self: flex-start;width: 50%;}#sk-container-id-5 div.sk-parallel-item:only-child::after {width: 0;}#sk-container-id-5 div.sk-dashed-wrapped {border: 1px dashed gray;margin: 0 0.4em 0.5em 0.4em;box-sizing: border-box;padding-bottom: 0.4em;background-color: white;}#sk-container-id-5 div.sk-label label {font-family: monospace;font-weight: bold;display: inline-block;line-height: 1.2em;}#sk-container-id-5 div.sk-label-container {text-align: center;}#sk-container-id-5 div.sk-container {/* jupyter's `normalize.less` sets `[hidden] { display: none; }` but bootstrap.min.css set `[hidden] { display: none !important; }` so we also need the `!important` here to be able to override the default hidden behavior on the sphinx rendered scikit-learn.org. See: https://github.com/scikit-learn/scikit-learn/issues/21755 */display: inline-block !important;position: relative;}#sk-container-id-5 div.sk-text-repr-fallback {display: none;}</style><div id=\"sk-container-id-5\" class=\"sk-top-container\"><div class=\"sk-text-repr-fallback\"><pre>KNeighborsClassifier(metric=&#x27;euclidean&#x27;)</pre><b>In a Jupyter environment, please rerun this cell to show the HTML representation or trust the notebook. <br />On GitHub, the HTML representation is unable to render, please try loading this page with nbviewer.org.</b></div><div class=\"sk-container\" hidden><div class=\"sk-item\"><div class=\"sk-estimator sk-toggleable\"><input class=\"sk-toggleable__control sk-hidden--visually\" id=\"sk-estimator-id-5\" type=\"checkbox\" checked><label for=\"sk-estimator-id-5\" class=\"sk-toggleable__label sk-toggleable__label-arrow\">KNeighborsClassifier</label><div class=\"sk-toggleable__content\"><pre>KNeighborsClassifier(metric=&#x27;euclidean&#x27;)</pre></div></div></div></div></div>"
      ],
      "text/plain": [
       "KNeighborsClassifier(metric='euclidean')"
      ]
     },
     "execution_count": 78,
     "metadata": {},
     "output_type": "execute_result"
    }
   ],
   "source": [
    "from sklearn.neighbors import KNeighborsClassifier\n",
    "from sklearn.metrics import accuracy_score, classification_report\n",
    "\n",
    "X_train_rgb = np.array(train_set['RGB'].values.tolist())\n",
    "X_train_lbp = np.array(train_set['LBP'].values.tolist())\n",
    "X_train_luminance = np.array(train_set['Luminance'].values.tolist())\n",
    "\n",
    "X_train = np.column_stack((X_train_rgb, X_train_lbp, X_train_luminance))\n",
    "y_train = train_set['Label']\n",
    "\n",
    "knn = KNeighborsClassifier(n_neighbors=5, metric='euclidean')\n",
    "# knn = KNeighborsClassifier(n_neighbors=5, metric='mahalanobis', metric_params={'V': np.cov(X_train, rowvar=False)})\n",
    "knn.fit(X_train, y_train)"
   ]
  },
  {
   "cell_type": "code",
   "execution_count": 79,
   "metadata": {},
   "outputs": [
    {
     "name": "stdout",
     "output_type": "stream",
     "text": [
      "Accuracy: 0.6517857142857143\n",
      "Classification Report:\n",
      "                 precision    recall  f1-score   support\n",
      "\n",
      "     Ensoleillé       0.45      0.55      0.50        51\n",
      "Lever du soleil       0.67      0.63      0.65        71\n",
      "        Nuageux       0.76      0.69      0.73        59\n",
      "       Pluvieux       0.78      0.74      0.76        43\n",
      "\n",
      "       accuracy                           0.65       224\n",
      "      macro avg       0.67      0.66      0.66       224\n",
      "   weighted avg       0.67      0.65      0.66       224\n",
      "\n"
     ]
    }
   ],
   "source": [
    "X_test_rgb = np.array(test_set['RGB'].values.tolist())\n",
    "X_test_lbp = np.array(test_set['LBP'].values.tolist())\n",
    "X_test_luminance = np.array(test_set['Luminance'].values.tolist())\n",
    "\n",
    "X_test = np.column_stack((X_test_rgb, X_test_lbp, X_test_luminance))\n",
    "y_test = test_set['Label']\n",
    "\n",
    "y_pred = knn.predict(X_test)\n",
    "\n",
    "accuracy = accuracy_score(y_test, y_pred)\n",
    "print(\"Accuracy:\", accuracy)\n",
    "\n",
    "print(\"Classification Report:\")\n",
    "print(classification_report(y_test, y_pred))"
   ]
  },
  {
   "cell_type": "code",
   "execution_count": 80,
   "metadata": {},
   "outputs": [
    {
     "name": "stdout",
     "output_type": "stream",
     "text": [
      "F1 Score: 0.6569408400143437\n"
     ]
    }
   ],
   "source": [
    "from sklearn.metrics import f1_score\n",
    "\n",
    "f1 = f1_score(y_test, y_pred, average='weighted')\n",
    "print(\"F1 Score:\", f1)\n"
   ]
  },
  {
   "cell_type": "code",
   "execution_count": 81,
   "metadata": {},
   "outputs": [
    {
     "name": "stdout",
     "output_type": "stream",
     "text": [
      "[[28 13  6  4]\n",
      " [18 45  6  2]\n",
      " [12  3 41  3]\n",
      " [ 4  6  1 32]]\n"
     ]
    }
   ],
   "source": [
    "from sklearn.metrics import confusion_matrix\n",
    "\n",
    "cm = confusion_matrix(y_test, y_pred)\n",
    "print(cm)\n"
   ]
  },
  {
   "cell_type": "code",
   "execution_count": 82,
   "metadata": {},
   "outputs": [
    {
     "data": {
      "text/plain": [
       "Lever du soleil    286\n",
       "Nuageux            239\n",
       "Ensoleillé         201\n",
       "Pluvieux           171\n",
       "Name: Label, dtype: int64"
      ]
     },
     "execution_count": 82,
     "metadata": {},
     "output_type": "execute_result"
    }
   ],
   "source": [
    "train_set[\"Label\"].value_counts()"
   ]
  },
  {
   "cell_type": "code",
   "execution_count": 83,
   "metadata": {},
   "outputs": [
    {
     "data": {
      "text/plain": [
       "[Text(0, 0.5, 'Lever du soleil'),\n",
       " Text(0, 1.5, 'Nuageux'),\n",
       " Text(0, 2.5, 'Ensoleillé'),\n",
       " Text(0, 3.5, 'Pluvieux')]"
      ]
     },
     "execution_count": 83,
     "metadata": {},
     "output_type": "execute_result"
    },
    {
     "data": {
      "image/png": "[encoded data removed]",
      "text/plain": [
       "<Figure size 640x480 with 2 Axes>"
      ]
     },
     "metadata": {},
     "output_type": "display_data"
    }
   ],
   "source": [
    "import seaborn as sns\n",
    "ax = plt.subplot()\n",
    "sns.heatmap(cm, vmin=0, vmax=26, center=10, cmap=plt.cm.Blues, annot=True)\n",
    "ax.set_xlabel('Predicted Labels');ax.set_ylabel('True Labels')\n",
    "ax.set_title('Confusion Matrix')\n",
    "ax.xaxis.set_ticklabels(['Lever du soleil', 'Nuageux', \"Ensoleillé\", 'Pluvieux'])\n",
    "ax.yaxis.set_ticklabels(['Lever du soleil', 'Nuageux', \"Ensoleillé\", 'Pluvieux'])"
   ]
  },
  {
   "cell_type": "code",
   "execution_count": 84,
   "metadata": {},
   "outputs": [
    {
     "name": "stdout",
     "output_type": "stream",
     "text": [
      "Checkpoint saved successfully.\n"
     ]
    }
   ],
   "source": [
    "import json\n",
    "\n",
    "# Define the checkpoint data\n",
    "checkpoint_data = {\n",
    "    'model_name': 'K-Nearest Neighbors',\n",
    "    'features': ['RGB', 'LBP', 'Luminance'],\n",
    "    'model_parameters': knn.get_params(),\n",
    "    'accuracy': accuracy,\n",
    "    'results': classification_report(y_test, y_pred, output_dict=True)\n",
    "}\n",
    "\n",
    "checkpoint.append(checkpoint_data)\n",
    "\n",
    "print(\"Checkpoint saved successfully.\")"
   ]
  },
  {
   "cell_type": "markdown",
   "metadata": {},
   "source": [
    "### Interpretation \n",
    "***\n",
    "Le Lever de soleil est une periode de la journee ou elle peut etre nuageux ensoleille ou pluvieux, d'ou la confusion et les resultats non précis sur cette claasse"
   ]
  },
  {
   "cell_type": "markdown",
   "metadata": {},
   "source": [
    "# Gradient Boost classifier "
   ]
  },
  {
   "cell_type": "code",
   "execution_count": 85,
   "metadata": {},
   "outputs": [
    {
     "data": {
      "text/html": [
       "<style>#sk-container-id-6 {color: black;background-color: white;}#sk-container-id-6 pre{padding: 0;}#sk-container-id-6 div.sk-toggleable {background-color: white;}#sk-container-id-6 label.sk-toggleable__label {cursor: pointer;display: block;width: 100%;margin-bottom: 0;padding: 0.3em;box-sizing: border-box;text-align: center;}#sk-container-id-6 label.sk-toggleable__label-arrow:before {content: \"▸\";float: left;margin-right: 0.25em;color: #696969;}#sk-container-id-6 label.sk-toggleable__label-arrow:hover:before {color: black;}#sk-container-id-6 div.sk-estimator:hover label.sk-toggleable__label-arrow:before {color: black;}#sk-container-id-6 div.sk-toggleable__content {max-height: 0;max-width: 0;overflow: hidden;text-align: left;background-color: #f0f8ff;}#sk-container-id-6 div.sk-toggleable__content pre {margin: 0.2em;color: black;border-radius: 0.25em;background-color: #f0f8ff;}#sk-container-id-6 input.sk-toggleable__control:checked~div.sk-toggleable__content {max-height: 200px;max-width: 100%;overflow: auto;}#sk-container-id-6 input.sk-toggleable__control:checked~label.sk-toggleable__label-arrow:before {content: \"▾\";}#sk-container-id-6 div.sk-estimator input.sk-toggleable__control:checked~label.sk-toggleable__label {background-color: #d4ebff;}#sk-container-id-6 div.sk-label input.sk-toggleable__control:checked~label.sk-toggleable__label {background-color: #d4ebff;}#sk-container-id-6 input.sk-hidden--visually {border: 0;clip: rect(1px 1px 1px 1px);clip: rect(1px, 1px, 1px, 1px);height: 1px;margin: -1px;overflow: hidden;padding: 0;position: absolute;width: 1px;}#sk-container-id-6 div.sk-estimator {font-family: monospace;background-color: #f0f8ff;border: 1px dotted black;border-radius: 0.25em;box-sizing: border-box;margin-bottom: 0.5em;}#sk-container-id-6 div.sk-estimator:hover {background-color: #d4ebff;}#sk-container-id-6 div.sk-parallel-item::after {content: \"\";width: 100%;border-bottom: 1px solid gray;flex-grow: 1;}#sk-container-id-6 div.sk-label:hover label.sk-toggleable__label {background-color: #d4ebff;}#sk-container-id-6 div.sk-serial::before {content: \"\";position: absolute;border-left: 1px solid gray;box-sizing: border-box;top: 0;bottom: 0;left: 50%;z-index: 0;}#sk-container-id-6 div.sk-serial {display: flex;flex-direction: column;align-items: center;background-color: white;padding-right: 0.2em;padding-left: 0.2em;position: relative;}#sk-container-id-6 div.sk-item {position: relative;z-index: 1;}#sk-container-id-6 div.sk-parallel {display: flex;align-items: stretch;justify-content: center;background-color: white;position: relative;}#sk-container-id-6 div.sk-item::before, #sk-container-id-6 div.sk-parallel-item::before {content: \"\";position: absolute;border-left: 1px solid gray;box-sizing: border-box;top: 0;bottom: 0;left: 50%;z-index: -1;}#sk-container-id-6 div.sk-parallel-item {display: flex;flex-direction: column;z-index: 1;position: relative;background-color: white;}#sk-container-id-6 div.sk-parallel-item:first-child::after {align-self: flex-end;width: 50%;}#sk-container-id-6 div.sk-parallel-item:last-child::after {align-self: flex-start;width: 50%;}#sk-container-id-6 div.sk-parallel-item:only-child::after {width: 0;}#sk-container-id-6 div.sk-dashed-wrapped {border: 1px dashed gray;margin: 0 0.4em 0.5em 0.4em;box-sizing: border-box;padding-bottom: 0.4em;background-color: white;}#sk-container-id-6 div.sk-label label {font-family: monospace;font-weight: bold;display: inline-block;line-height: 1.2em;}#sk-container-id-6 div.sk-label-container {text-align: center;}#sk-container-id-6 div.sk-container {/* jupyter's `normalize.less` sets `[hidden] { display: none; }` but bootstrap.min.css set `[hidden] { display: none !important; }` so we also need the `!important` here to be able to override the default hidden behavior on the sphinx rendered scikit-learn.org. See: https://github.com/scikit-learn/scikit-learn/issues/21755 */display: inline-block !important;position: relative;}#sk-container-id-6 div.sk-text-repr-fallback {display: none;}</style><div id=\"sk-container-id-6\" class=\"sk-top-container\"><div class=\"sk-text-repr-fallback\"><pre>GradientBoostingClassifier(max_depth=5, random_state=0)</pre><b>In a Jupyter environment, please rerun this cell to show the HTML representation or trust the notebook. <br />On GitHub, the HTML representation is unable to render, please try loading this page with nbviewer.org.</b></div><div class=\"sk-container\" hidden><div class=\"sk-item\"><div class=\"sk-estimator sk-toggleable\"><input class=\"sk-toggleable__control sk-hidden--visually\" id=\"sk-estimator-id-6\" type=\"checkbox\" checked><label for=\"sk-estimator-id-6\" class=\"sk-toggleable__label sk-toggleable__label-arrow\">GradientBoostingClassifier</label><div class=\"sk-toggleable__content\"><pre>GradientBoostingClassifier(max_depth=5, random_state=0)</pre></div></div></div></div></div>"
      ],
      "text/plain": [
       "GradientBoostingClassifier(max_depth=5, random_state=0)"
      ]
     },
     "execution_count": 85,
     "metadata": {},
     "output_type": "execute_result"
    }
   ],
   "source": [
    "from sklearn.ensemble import GradientBoostingClassifier\n",
    "\n",
    "X_train_rgb = np.array(train_set['RGB'].values.tolist())\n",
    "X_train_lbp = np.array(train_set['LBP'].values.tolist())\n",
    "X_train_luminance = np.array(train_set['Luminance'].values.tolist())\n",
    "X_train = np.column_stack((X_train_rgb, X_train_lbp, X_train_luminance))\n",
    "y_traX_train = test_set['Label']\n",
    "\n",
    "gb = GradientBoostingClassifier(n_estimators=100, learning_rate=0.1, max_depth=5, random_state=0)\n",
    "gb.fit(X_train, y_train)"
   ]
  },
  {
   "cell_type": "code",
   "execution_count": 86,
   "metadata": {},
   "outputs": [
    {
     "name": "stdout",
     "output_type": "stream",
     "text": [
      "Accuracy: 0.8883928571428571\n",
      "Classification Report:\n",
      "                 precision    recall  f1-score   support\n",
      "\n",
      "     Ensoleillé       0.95      0.76      0.85        51\n",
      "Lever du soleil       0.92      0.99      0.95        71\n",
      "        Nuageux       0.87      0.88      0.87        59\n",
      "       Pluvieux       0.81      0.88      0.84        43\n",
      "\n",
      "       accuracy                           0.89       224\n",
      "      macro avg       0.89      0.88      0.88       224\n",
      "   weighted avg       0.89      0.89      0.89       224\n",
      "\n"
     ]
    }
   ],
   "source": [
    "X_test_rgb = np.array(test_set['RGB'].values.tolist())\n",
    "X_test_lbp = np.array(test_set['LBP'].values.tolist())\n",
    "X_test_luminance = np.array(test_set['Luminance'].values.tolist())\n",
    "\n",
    "X_test = np.column_stack((X_test_rgb, X_test_lbp, X_test_luminance))\n",
    "y_test = test_set['Label']\n",
    "\n",
    "\n",
    "y_pred = gb.predict(X_test)\n",
    "\n",
    "accuracy = accuracy_score(y_test, y_pred)\n",
    "print(\"Accuracy:\", accuracy)\n",
    "print(\"Classification Report:\")\n",
    "print(classification_report(y_test, y_pred))"
   ]
  },
  {
   "cell_type": "code",
   "execution_count": 87,
   "metadata": {},
   "outputs": [
    {
     "name": "stdout",
     "output_type": "stream",
     "text": [
      "Checkpoint saved successfully.\n"
     ]
    }
   ],
   "source": [
    "checkpoint_data = {\n",
    "    'model_name': 'Gradient Boosting Classifier',\n",
    "    'features': ['RGB', 'LBP', 'Luminance'],\n",
    "    'model_parameters': gb.get_params(),\n",
    "    'accuracy': accuracy,\n",
    "    'results': classification_report(y_test, y_pred, output_dict=True)\n",
    "}\n",
    "\n",
    "checkpoint.append(checkpoint_data)\n",
    "\n",
    "print(\"Checkpoint saved successfully.\")"
   ]
  },
  {
   "cell_type": "code",
   "execution_count": 88,
   "metadata": {},
   "outputs": [
    {
     "data": {
      "text/plain": [
       "[Text(0.5, 0, 'Lever du soleil'),\n",
       " Text(1.5, 0, 'Nuageux'),\n",
       " Text(2.5, 0, 'Ensoleillé'),\n",
       " Text(3.5, 0, 'Pluvieux')]"
      ]
     },
     "execution_count": 88,
     "metadata": {},
     "output_type": "execute_result"
    },
    {
     "data": {
      "image/png": "[encoded data removed]",
      "text/plain": [
       "<Figure size 640x480 with 2 Axes>"
      ]
     },
     "metadata": {},
     "output_type": "display_data"
    }
   ],
   "source": [
    "cm = confusion_matrix(y_test, y_pred)\n",
    "ax = plt.subplot()\n",
    "sns.heatmap(cm, vmin=0, vmax=26, center=10, cmap=plt.cm.Blues, annot=True)\n",
    "ax.set_xlabel('Predicted Labels');ax.set_ylabel('True Labels')\n",
    "ax.set_title('Confusion Matrix')\n",
    "ax.xaxis.set_ticklabels(['Lever du soleil', 'Nuageux', \"Ensoleillé\", 'Pluvieux'])"
   ]
  },
  {
   "cell_type": "markdown",
   "metadata": {},
   "source": [
    "## Random Forest "
   ]
  },
  {
   "cell_type": "code",
   "execution_count": 89,
   "metadata": {},
   "outputs": [
    {
     "data": {
      "text/html": [
       "<style>#sk-container-id-7 {color: black;background-color: white;}#sk-container-id-7 pre{padding: 0;}#sk-container-id-7 div.sk-toggleable {background-color: white;}#sk-container-id-7 label.sk-toggleable__label {cursor: pointer;display: block;width: 100%;margin-bottom: 0;padding: 0.3em;box-sizing: border-box;text-align: center;}#sk-container-id-7 label.sk-toggleable__label-arrow:before {content: \"▸\";float: left;margin-right: 0.25em;color: #696969;}#sk-container-id-7 label.sk-toggleable__label-arrow:hover:before {color: black;}#sk-container-id-7 div.sk-estimator:hover label.sk-toggleable__label-arrow:before {color: black;}#sk-container-id-7 div.sk-toggleable__content {max-height: 0;max-width: 0;overflow: hidden;text-align: left;background-color: #f0f8ff;}#sk-container-id-7 div.sk-toggleable__content pre {margin: 0.2em;color: black;border-radius: 0.25em;background-color: #f0f8ff;}#sk-container-id-7 input.sk-toggleable__control:checked~div.sk-toggleable__content {max-height: 200px;max-width: 100%;overflow: auto;}#sk-container-id-7 input.sk-toggleable__control:checked~label.sk-toggleable__label-arrow:before {content: \"▾\";}#sk-container-id-7 div.sk-estimator input.sk-toggleable__control:checked~label.sk-toggleable__label {background-color: #d4ebff;}#sk-container-id-7 div.sk-label input.sk-toggleable__control:checked~label.sk-toggleable__label {background-color: #d4ebff;}#sk-container-id-7 input.sk-hidden--visually {border: 0;clip: rect(1px 1px 1px 1px);clip: rect(1px, 1px, 1px, 1px);height: 1px;margin: -1px;overflow: hidden;padding: 0;position: absolute;width: 1px;}#sk-container-id-7 div.sk-estimator {font-family: monospace;background-color: #f0f8ff;border: 1px dotted black;border-radius: 0.25em;box-sizing: border-box;margin-bottom: 0.5em;}#sk-container-id-7 div.sk-estimator:hover {background-color: #d4ebff;}#sk-container-id-7 div.sk-parallel-item::after {content: \"\";width: 100%;border-bottom: 1px solid gray;flex-grow: 1;}#sk-container-id-7 div.sk-label:hover label.sk-toggleable__label {background-color: #d4ebff;}#sk-container-id-7 div.sk-serial::before {content: \"\";position: absolute;border-left: 1px solid gray;box-sizing: border-box;top: 0;bottom: 0;left: 50%;z-index: 0;}#sk-container-id-7 div.sk-serial {display: flex;flex-direction: column;align-items: center;background-color: white;padding-right: 0.2em;padding-left: 0.2em;position: relative;}#sk-container-id-7 div.sk-item {position: relative;z-index: 1;}#sk-container-id-7 div.sk-parallel {display: flex;align-items: stretch;justify-content: center;background-color: white;position: relative;}#sk-container-id-7 div.sk-item::before, #sk-container-id-7 div.sk-parallel-item::before {content: \"\";position: absolute;border-left: 1px solid gray;box-sizing: border-box;top: 0;bottom: 0;left: 50%;z-index: -1;}#sk-container-id-7 div.sk-parallel-item {display: flex;flex-direction: column;z-index: 1;position: relative;background-color: white;}#sk-container-id-7 div.sk-parallel-item:first-child::after {align-self: flex-end;width: 50%;}#sk-container-id-7 div.sk-parallel-item:last-child::after {align-self: flex-start;width: 50%;}#sk-container-id-7 div.sk-parallel-item:only-child::after {width: 0;}#sk-container-id-7 div.sk-dashed-wrapped {border: 1px dashed gray;margin: 0 0.4em 0.5em 0.4em;box-sizing: border-box;padding-bottom: 0.4em;background-color: white;}#sk-container-id-7 div.sk-label label {font-family: monospace;font-weight: bold;display: inline-block;line-height: 1.2em;}#sk-container-id-7 div.sk-label-container {text-align: center;}#sk-container-id-7 div.sk-container {/* jupyter's `normalize.less` sets `[hidden] { display: none; }` but bootstrap.min.css set `[hidden] { display: none !important; }` so we also need the `!important` here to be able to override the default hidden behavior on the sphinx rendered scikit-learn.org. See: https://github.com/scikit-learn/scikit-learn/issues/21755 */display: inline-block !important;position: relative;}#sk-container-id-7 div.sk-text-repr-fallback {display: none;}</style><div id=\"sk-container-id-7\" class=\"sk-top-container\"><div class=\"sk-text-repr-fallback\"><pre>RandomForestClassifier(random_state=0)</pre><b>In a Jupyter environment, please rerun this cell to show the HTML representation or trust the notebook. <br />On GitHub, the HTML representation is unable to render, please try loading this page with nbviewer.org.</b></div><div class=\"sk-container\" hidden><div class=\"sk-item\"><div class=\"sk-estimator sk-toggleable\"><input class=\"sk-toggleable__control sk-hidden--visually\" id=\"sk-estimator-id-7\" type=\"checkbox\" checked><label for=\"sk-estimator-id-7\" class=\"sk-toggleable__label sk-toggleable__label-arrow\">RandomForestClassifier</label><div class=\"sk-toggleable__content\"><pre>RandomForestClassifier(random_state=0)</pre></div></div></div></div></div>"
      ],
      "text/plain": [
       "RandomForestClassifier(random_state=0)"
      ]
     },
     "execution_count": 89,
     "metadata": {},
     "output_type": "execute_result"
    }
   ],
   "source": [
    "from sklearn.ensemble import RandomForestClassifier\n",
    "\n",
    "X_train_rgb = np.array(train_set['RGB'].values.tolist())\n",
    "X_train_lbp = np.array(train_set['LBP'].values.tolist())\n",
    "X_train_luminance = np.array(train_set['Luminance'].values.tolist())\n",
    "X_train = np.column_stack((X_train_rgb, X_train_lbp, X_train_luminance))\n",
    "y_train = train_set['Label']\n",
    "\n",
    "rf = RandomForestClassifier(n_estimators=100, random_state=0)\n",
    "rf.fit(X_train, y_train)\n"
   ]
  },
  {
   "cell_type": "code",
   "execution_count": 90,
   "metadata": {},
   "outputs": [
    {
     "name": "stdout",
     "output_type": "stream",
     "text": [
      "Accuracy: 0.8794642857142857\n",
      "Classification Report:\n",
      "                 precision    recall  f1-score   support\n",
      "\n",
      "     Ensoleillé       0.89      0.76      0.82        51\n",
      "Lever du soleil       0.91      1.00      0.95        71\n",
      "        Nuageux       0.88      0.83      0.85        59\n",
      "       Pluvieux       0.83      0.88      0.85        43\n",
      "\n",
      "       accuracy                           0.88       224\n",
      "      macro avg       0.87      0.87      0.87       224\n",
      "   weighted avg       0.88      0.88      0.88       224\n",
      "\n"
     ]
    }
   ],
   "source": [
    "X_test_rgb = np.array(test_set['RGB'].values.tolist())\n",
    "X_test_lbp = np.array(test_set['LBP'].values.tolist())\n",
    "X_test_luminance = np.array(test_set['Luminance'].values.tolist())\n",
    "\n",
    "X_test = np.column_stack((X_test_rgb, X_test_lbp, X_test_luminance))\n",
    "y_test = test_set['Label']\n",
    "\n",
    "\n",
    "y_pred = rf.predict(X_test)\n",
    "\n",
    "accuracy = accuracy_score(y_test, y_pred)\n",
    "print(\"Accuracy:\", accuracy)\n",
    "print(\"Classification Report:\")\n",
    "print(classification_report(y_test, y_pred))"
   ]
  },
  {
   "cell_type": "code",
   "execution_count": 91,
   "metadata": {},
   "outputs": [
    {
     "data": {
      "text/plain": [
       "[Text(0.5, 0, 'Lever du soleil'),\n",
       " Text(1.5, 0, 'Nuageux'),\n",
       " Text(2.5, 0, 'Ensoleillé'),\n",
       " Text(3.5, 0, 'Pluvieux')]"
      ]
     },
     "execution_count": 91,
     "metadata": {},
     "output_type": "execute_result"
    },
    {
     "data": {
      "image/png": "[encoded data removed]",
      "text/plain": [
       "<Figure size 640x480 with 2 Axes>"
      ]
     },
     "metadata": {},
     "output_type": "display_data"
    }
   ],
   "source": [
    "cm = confusion_matrix(y_test, y_pred)\n",
    "ax = plt.subplot()\n",
    "sns.heatmap(cm, vmin=0, vmax=26, center=10, cmap=plt.cm.Blues, annot=True)\n",
    "ax.set_xlabel('Predicted Labels');ax.set_ylabel('True Labels')\n",
    "ax.set_title('Confusion Matrix')\n",
    "ax.xaxis.set_ticklabels(['Lever du soleil', 'Nuageux', \"Ensoleillé\", 'Pluvieux'])"
   ]
  },
  {
   "cell_type": "code",
   "execution_count": 92,
   "metadata": {},
   "outputs": [
    {
     "name": "stdout",
     "output_type": "stream",
     "text": [
      "Checkpoint saved successfully.\n"
     ]
    }
   ],
   "source": [
    "checkpoint_data = {\n",
    "    'model_name': 'Random Forest Classifier',\n",
    "    'features': ['RGB', 'LBP', 'Luminance'],\n",
    "    'model_parameters': rf.get_params(),\n",
    "    'accuracy': accuracy,\n",
    "    'results': classification_report(y_test, y_pred, output_dict=True)\n",
    "}\n",
    "\n",
    "checkpoint.append(checkpoint_data)\n",
    "\n",
    "print(\"Checkpoint saved successfully.\")"
   ]
  },
  {
   "cell_type": "markdown",
   "metadata": {},
   "source": [
    "# Features Selection\n",
    "***\n",
    "Luminance + HSV"
   ]
  },
  {
   "cell_type": "code",
   "execution_count": 93,
   "metadata": {},
   "outputs": [],
   "source": [
    "def histogram_hsv(image):\n",
    "    # Convertir l'image RGB en HSV\n",
    "    hsv_image = cv2.cvtColor(image, cv2.COLOR_RGB2HSV)\n",
    "\n",
    "    # Calculer l'histogramme pour chaque canal (Hue, Saturation, Value)\n",
    "    h_hist = cv2.calcHist([hsv_image], [0], None, [256], [0, 256])\n",
    "    s_hist = cv2.calcHist([hsv_image], [1], None, [256], [0, 256])\n",
    "    v_hist = cv2.calcHist([hsv_image], [2], None, [256], [0, 256])\n",
    "\n",
    "    # Calculer les moyennes de chaque canal\n",
    "    h_mean = np.average(np.arange(256), weights=h_hist.ravel())\n",
    "    s_mean = np.average(np.arange(256), weights=s_hist.ravel())\n",
    "    v_mean = np.average(np.arange(256), weights=v_hist.ravel())\n",
    "\n",
    "    return [h_mean, s_mean]\n",
    "\n",
    "def calculate_hsv(path):\n",
    "    try:\n",
    "        img = resize_and_crop_top(path)\n",
    "        return histogram_hsv(img)\n",
    "    except Exception as e:\n",
    "        print(f\"Error calculating luminance for image {path}: {str(e)}\")\n",
    "        return None"
   ]
  },
  {
   "cell_type": "code",
   "execution_count": 94,
   "metadata": {},
   "outputs": [],
   "source": [
    "train_set['HSV'] = None  \n",
    "\n",
    "for i in range(len(train_set)):\n",
    "    path = train_set['Picture Path'].iloc[i]\n",
    "    hsv =  calculate_hsv(path)\n",
    "    train_set['HSV'].iloc[i] = hsv"
   ]
  },
  {
   "cell_type": "code",
   "execution_count": 95,
   "metadata": {},
   "outputs": [],
   "source": [
    "test_set['HSV'] = None  \n",
    "\n",
    "for i in range(len(test_set)):\n",
    "    path = test_set['Picture Path'].iloc[i]\n",
    "    hsv =  calculate_hsv(path)\n",
    "    test_set['HSV'].iloc[i] = hsv"
   ]
  },
  {
   "cell_type": "code",
   "execution_count": 96,
   "metadata": {},
   "outputs": [
    {
     "name": "stderr",
     "output_type": "stream",
     "text": [
      "UsageError: option -X not recognized ( allowed: \"sf\" aggressive)\n"
     ]
    }
   ],
   "source": [
    "%reset -X_train, X_test, y_train, y_test, y_pred, accuracy, f1, cm"
   ]
  },
  {
   "cell_type": "code",
   "execution_count": 97,
   "metadata": {},
   "outputs": [
    {
     "data": {
      "text/html": [
       "<style>#sk-container-id-8 {color: black;background-color: white;}#sk-container-id-8 pre{padding: 0;}#sk-container-id-8 div.sk-toggleable {background-color: white;}#sk-container-id-8 label.sk-toggleable__label {cursor: pointer;display: block;width: 100%;margin-bottom: 0;padding: 0.3em;box-sizing: border-box;text-align: center;}#sk-container-id-8 label.sk-toggleable__label-arrow:before {content: \"▸\";float: left;margin-right: 0.25em;color: #696969;}#sk-container-id-8 label.sk-toggleable__label-arrow:hover:before {color: black;}#sk-container-id-8 div.sk-estimator:hover label.sk-toggleable__label-arrow:before {color: black;}#sk-container-id-8 div.sk-toggleable__content {max-height: 0;max-width: 0;overflow: hidden;text-align: left;background-color: #f0f8ff;}#sk-container-id-8 div.sk-toggleable__content pre {margin: 0.2em;color: black;border-radius: 0.25em;background-color: #f0f8ff;}#sk-container-id-8 input.sk-toggleable__control:checked~div.sk-toggleable__content {max-height: 200px;max-width: 100%;overflow: auto;}#sk-container-id-8 input.sk-toggleable__control:checked~label.sk-toggleable__label-arrow:before {content: \"▾\";}#sk-container-id-8 div.sk-estimator input.sk-toggleable__control:checked~label.sk-toggleable__label {background-color: #d4ebff;}#sk-container-id-8 div.sk-label input.sk-toggleable__control:checked~label.sk-toggleable__label {background-color: #d4ebff;}#sk-container-id-8 input.sk-hidden--visually {border: 0;clip: rect(1px 1px 1px 1px);clip: rect(1px, 1px, 1px, 1px);height: 1px;margin: -1px;overflow: hidden;padding: 0;position: absolute;width: 1px;}#sk-container-id-8 div.sk-estimator {font-family: monospace;background-color: #f0f8ff;border: 1px dotted black;border-radius: 0.25em;box-sizing: border-box;margin-bottom: 0.5em;}#sk-container-id-8 div.sk-estimator:hover {background-color: #d4ebff;}#sk-container-id-8 div.sk-parallel-item::after {content: \"\";width: 100%;border-bottom: 1px solid gray;flex-grow: 1;}#sk-container-id-8 div.sk-label:hover label.sk-toggleable__label {background-color: #d4ebff;}#sk-container-id-8 div.sk-serial::before {content: \"\";position: absolute;border-left: 1px solid gray;box-sizing: border-box;top: 0;bottom: 0;left: 50%;z-index: 0;}#sk-container-id-8 div.sk-serial {display: flex;flex-direction: column;align-items: center;background-color: white;padding-right: 0.2em;padding-left: 0.2em;position: relative;}#sk-container-id-8 div.sk-item {position: relative;z-index: 1;}#sk-container-id-8 div.sk-parallel {display: flex;align-items: stretch;justify-content: center;background-color: white;position: relative;}#sk-container-id-8 div.sk-item::before, #sk-container-id-8 div.sk-parallel-item::before {content: \"\";position: absolute;border-left: 1px solid gray;box-sizing: border-box;top: 0;bottom: 0;left: 50%;z-index: -1;}#sk-container-id-8 div.sk-parallel-item {display: flex;flex-direction: column;z-index: 1;position: relative;background-color: white;}#sk-container-id-8 div.sk-parallel-item:first-child::after {align-self: flex-end;width: 50%;}#sk-container-id-8 div.sk-parallel-item:last-child::after {align-self: flex-start;width: 50%;}#sk-container-id-8 div.sk-parallel-item:only-child::after {width: 0;}#sk-container-id-8 div.sk-dashed-wrapped {border: 1px dashed gray;margin: 0 0.4em 0.5em 0.4em;box-sizing: border-box;padding-bottom: 0.4em;background-color: white;}#sk-container-id-8 div.sk-label label {font-family: monospace;font-weight: bold;display: inline-block;line-height: 1.2em;}#sk-container-id-8 div.sk-label-container {text-align: center;}#sk-container-id-8 div.sk-container {/* jupyter's `normalize.less` sets `[hidden] { display: none; }` but bootstrap.min.css set `[hidden] { display: none !important; }` so we also need the `!important` here to be able to override the default hidden behavior on the sphinx rendered scikit-learn.org. See: https://github.com/scikit-learn/scikit-learn/issues/21755 */display: inline-block !important;position: relative;}#sk-container-id-8 div.sk-text-repr-fallback {display: none;}</style><div id=\"sk-container-id-8\" class=\"sk-top-container\"><div class=\"sk-text-repr-fallback\"><pre>KNeighborsClassifier(metric=&#x27;euclidean&#x27;)</pre><b>In a Jupyter environment, please rerun this cell to show the HTML representation or trust the notebook. <br />On GitHub, the HTML representation is unable to render, please try loading this page with nbviewer.org.</b></div><div class=\"sk-container\" hidden><div class=\"sk-item\"><div class=\"sk-estimator sk-toggleable\"><input class=\"sk-toggleable__control sk-hidden--visually\" id=\"sk-estimator-id-8\" type=\"checkbox\" checked><label for=\"sk-estimator-id-8\" class=\"sk-toggleable__label sk-toggleable__label-arrow\">KNeighborsClassifier</label><div class=\"sk-toggleable__content\"><pre>KNeighborsClassifier(metric=&#x27;euclidean&#x27;)</pre></div></div></div></div></div>"
      ],
      "text/plain": [
       "KNeighborsClassifier(metric='euclidean')"
      ]
     },
     "execution_count": 97,
     "metadata": {},
     "output_type": "execute_result"
    }
   ],
   "source": [
    "X_train_hsv = np.array(train_set['HSV'].values.tolist())\n",
    "X_train_rgb = np.array(train_set['RGB'].values.tolist())\n",
    "X_train_lbp = np.array(train_set['LBP'].values.tolist())\n",
    "X_train_luminance = np.array(train_set['Luminance'].values.tolist())\n",
    "\n",
    "X_train = np.column_stack((X_train_hsv, X_train_luminance))\n",
    "y_train = train_set['Label']\n",
    "\n",
    "knn = KNeighborsClassifier(n_neighbors=5, metric='euclidean')\n",
    "# knn = KNeighborsClassifier(n_neighbors=5, metric='mahalanobis', metric_params={'V': np.cov(X_train, rowvar=False)})\n",
    "knn.fit(X_train, y_train)"
   ]
  },
  {
   "cell_type": "code",
   "execution_count": 98,
   "metadata": {},
   "outputs": [
    {
     "name": "stdout",
     "output_type": "stream",
     "text": [
      "Accuracy: 0.6830357142857143\n",
      "Classification Report:\n",
      "                 precision    recall  f1-score   support\n",
      "\n",
      "     Ensoleillé       0.61      0.75      0.67        51\n",
      "Lever du soleil       0.90      0.89      0.89        71\n",
      "        Nuageux       0.61      0.59      0.60        59\n",
      "       Pluvieux       0.49      0.40      0.44        43\n",
      "\n",
      "       accuracy                           0.68       224\n",
      "      macro avg       0.65      0.66      0.65       224\n",
      "   weighted avg       0.68      0.68      0.68       224\n",
      "\n"
     ]
    }
   ],
   "source": [
    "X_test_hsv = np.array(test_set['HSV'].values.tolist())\n",
    "X_test_rgb = np.array(test_set['RGB'].values.tolist())\n",
    "X_test_lbp = np.array(test_set['LBP'].values.tolist())\n",
    "X_test_luminance = np.array(test_set['Luminance'].values.tolist())\n",
    "\n",
    "X_test = np.column_stack((X_test_hsv, X_test_luminance))\n",
    "y_test = test_set['Label']\n",
    "\n",
    "y_pred = knn.predict(X_test)\n",
    "\n",
    "accuracy = accuracy_score(y_test, y_pred)\n",
    "print(\"Accuracy:\", accuracy)\n",
    "\n",
    "print(\"Classification Report:\")\n",
    "print(classification_report(y_test, y_pred))"
   ]
  },
  {
   "cell_type": "code",
   "execution_count": 99,
   "metadata": {},
   "outputs": [
    {
     "data": {
      "text/plain": [
       "[Text(0, 0.5, 'Lever du soleil'),\n",
       " Text(0, 1.5, 'Nuageux'),\n",
       " Text(0, 2.5, 'Ensoleillé'),\n",
       " Text(0, 3.5, 'Pluvieux')]"
      ]
     },
     "execution_count": 99,
     "metadata": {},
     "output_type": "execute_result"
    },
    {
     "data": {
      "image/png": "[encoded data removed]",
      "text/plain": [
       "<Figure size 640x480 with 2 Axes>"
      ]
     },
     "metadata": {},
     "output_type": "display_data"
    }
   ],
   "source": [
    "cm = confusion_matrix(y_test, y_pred)\n",
    "ax = plt.subplot()\n",
    "sns.heatmap(cm, vmin=0, vmax=26, center=10, cmap=plt.cm.Blues, annot=True)\n",
    "ax.set_xlabel('Predicted Labels');ax.set_ylabel('True Labels')\n",
    "ax.set_title('Confusion Matrix')\n",
    "ax.xaxis.set_ticklabels(['Lever du soleil', 'Nuageux', \"Ensoleillé\", 'Pluvieux'])\n",
    "ax.yaxis.set_ticklabels(['Lever du soleil', 'Nuageux', \"Ensoleillé\", 'Pluvieux'])"
   ]
  },
  {
   "cell_type": "code",
   "execution_count": 100,
   "metadata": {},
   "outputs": [
    {
     "name": "stdout",
     "output_type": "stream",
     "text": [
      "Checkpoint saved successfully.\n"
     ]
    }
   ],
   "source": [
    "import json\n",
    "\n",
    "# Define the checkpoint data\n",
    "checkpoint_data = {\n",
    "    'model_name': 'K-Nearest Neighbors',\n",
    "    'features': ['RGB', 'LBP', 'Luminance', 'HSV'],\n",
    "    'model_parameters': knn.get_params(),\n",
    "    'accuracy': accuracy,\n",
    "    'results': classification_report(y_test, y_pred, output_dict=True)\n",
    "}\n",
    "\n",
    "checkpoint.append(checkpoint_data)\n",
    "\n",
    "print(\"Checkpoint saved successfully.\")\n"
   ]
  },
  {
   "cell_type": "markdown",
   "metadata": {},
   "source": [
    "## K-Fold"
   ]
  },
  {
   "cell_type": "code",
   "execution_count": 107,
   "metadata": {},
   "outputs": [],
   "source": [
    "\"\"\"\"\n",
    "df['Luminance'] = None  \n",
    "df['RGB'] = None\n",
    "df['LBP'] = None\n",
    "df['HSV'] = None\n",
    "\n",
    "for i in range(len(df)):\n",
    "    path = df['Picture Path'].iloc[i]\n",
    "    lumin = calculate_luminance(path)\n",
    "    hist = calculate_histogram(path)\n",
    "    lbp = calculate_LBP(path)\n",
    "    hsv= calculate_hsv(path)\n",
    "    df['Luminance'].iloc[i] = lumin\n",
    "    df['RGB'].iloc[i] = hist\n",
    "    df['LBP'].iloc[i] = lbp\n",
    "    df['HSV'].iloc[i] = hsv\n",
    "\"\"\"\n",
    "df = pd.read_csv('dataset_caracteristiques.csv')"
   ]
  },
  {
   "cell_type": "code",
   "execution_count": 108,
   "metadata": {},
   "outputs": [
    {
     "data": {
      "text/html": [
       "<div>\n",
       "<style scoped>\n",
       "    .dataframe tbody tr th:only-of-type {\n",
       "        vertical-align: middle;\n",
       "    }\n",
       "\n",
       "    .dataframe tbody tr th {\n",
       "        vertical-align: top;\n",
       "    }\n",
       "\n",
       "    .dataframe thead th {\n",
       "        text-align: right;\n",
       "    }\n",
       "</style>\n",
       "<table border=\"1\" class=\"dataframe\">\n",
       "  <thead>\n",
       "    <tr style=\"text-align: right;\">\n",
       "      <th></th>\n",
       "      <th>Picture Path</th>\n",
       "      <th>Label</th>\n",
       "      <th>width</th>\n",
       "      <th>height</th>\n",
       "      <th>Luminance</th>\n",
       "      <th>RGB</th>\n",
       "      <th>LBP</th>\n",
       "      <th>HSV</th>\n",
       "    </tr>\n",
       "  </thead>\n",
       "  <tbody>\n",
       "    <tr>\n",
       "      <th>0</th>\n",
       "      <td>./Multi-class Weather Dataset/Cloudy/cloudy1.jpg</td>\n",
       "      <td>Nuageux</td>\n",
       "      <td>600</td>\n",
       "      <td>400</td>\n",
       "      <td>0.178594</td>\n",
       "      <td>[126.34504885660581, 126.34504885660581, 126.3...</td>\n",
       "      <td>[451, 2006, 1591, 15454, 34446, 33885, 9137, 6...</td>\n",
       "      <td>[0.0, 0.0]</td>\n",
       "    </tr>\n",
       "    <tr>\n",
       "      <th>1</th>\n",
       "      <td>./Multi-class Weather Dataset/Cloudy/cloudy10.jpg</td>\n",
       "      <td>Nuageux</td>\n",
       "      <td>271</td>\n",
       "      <td>186</td>\n",
       "      <td>0.118810</td>\n",
       "      <td>[152.9002701495305, 169.04855283246093, 198.54...</td>\n",
       "      <td>[189, 1748, 894, 11282, 31090, 39998, 7514, 65...</td>\n",
       "      <td>[109.50477081542171, 60.599630809689984]</td>\n",
       "    </tr>\n",
       "    <tr>\n",
       "      <th>2</th>\n",
       "      <td>./Multi-class Weather Dataset/Cloudy/cloudy100...</td>\n",
       "      <td>Nuageux</td>\n",
       "      <td>259</td>\n",
       "      <td>194</td>\n",
       "      <td>0.134323</td>\n",
       "      <td>[150.96056491174835, 153.7316055129364, 155.91...</td>\n",
       "      <td>[816, 3787, 2685, 13576, 36313, 31807, 7939, 5...</td>\n",
       "      <td>[92.744845664964, 54.62629174463494]</td>\n",
       "    </tr>\n",
       "    <tr>\n",
       "      <th>3</th>\n",
       "      <td>./Multi-class Weather Dataset/Cloudy/cloudy101...</td>\n",
       "      <td>Nuageux</td>\n",
       "      <td>338</td>\n",
       "      <td>149</td>\n",
       "      <td>0.126442</td>\n",
       "      <td>[171.27977071005918, 177.1194305365903, 200.47...</td>\n",
       "      <td>[285, 1755, 1077, 13818, 29452, 38865, 8806, 7...</td>\n",
       "      <td>[123.27952258129773, 40.92878335777744]</td>\n",
       "    </tr>\n",
       "    <tr>\n",
       "      <th>4</th>\n",
       "      <td>./Multi-class Weather Dataset/Cloudy/cloudy102...</td>\n",
       "      <td>Nuageux</td>\n",
       "      <td>800</td>\n",
       "      <td>377</td>\n",
       "      <td>0.190307</td>\n",
       "      <td>[133.36938839157773, 145.10622021532942, 168.6...</td>\n",
       "      <td>[1314, 3819, 2962, 15665, 32156, 29125, 10206,...</td>\n",
       "      <td>[109.98722163219205, 57.693647903707074]</td>\n",
       "    </tr>\n",
       "  </tbody>\n",
       "</table>\n",
       "</div>"
      ],
      "text/plain": [
       "                                        Picture Path    Label  width  height  \\\n",
       "0   ./Multi-class Weather Dataset/Cloudy/cloudy1.jpg  Nuageux    600     400   \n",
       "1  ./Multi-class Weather Dataset/Cloudy/cloudy10.jpg  Nuageux    271     186   \n",
       "2  ./Multi-class Weather Dataset/Cloudy/cloudy100...  Nuageux    259     194   \n",
       "3  ./Multi-class Weather Dataset/Cloudy/cloudy101...  Nuageux    338     149   \n",
       "4  ./Multi-class Weather Dataset/Cloudy/cloudy102...  Nuageux    800     377   \n",
       "\n",
       "   Luminance                                                RGB  \\\n",
       "0   0.178594  [126.34504885660581, 126.34504885660581, 126.3...   \n",
       "1   0.118810  [152.9002701495305, 169.04855283246093, 198.54...   \n",
       "2   0.134323  [150.96056491174835, 153.7316055129364, 155.91...   \n",
       "3   0.126442  [171.27977071005918, 177.1194305365903, 200.47...   \n",
       "4   0.190307  [133.36938839157773, 145.10622021532942, 168.6...   \n",
       "\n",
       "                                                 LBP  \\\n",
       "0  [451, 2006, 1591, 15454, 34446, 33885, 9137, 6...   \n",
       "1  [189, 1748, 894, 11282, 31090, 39998, 7514, 65...   \n",
       "2  [816, 3787, 2685, 13576, 36313, 31807, 7939, 5...   \n",
       "3  [285, 1755, 1077, 13818, 29452, 38865, 8806, 7...   \n",
       "4  [1314, 3819, 2962, 15665, 32156, 29125, 10206,...   \n",
       "\n",
       "                                        HSV  \n",
       "0                                [0.0, 0.0]  \n",
       "1  [109.50477081542171, 60.599630809689984]  \n",
       "2      [92.744845664964, 54.62629174463494]  \n",
       "3   [123.27952258129773, 40.92878335777744]  \n",
       "4  [109.98722163219205, 57.693647903707074]  "
      ]
     },
     "execution_count": 108,
     "metadata": {},
     "output_type": "execute_result"
    }
   ],
   "source": [
    "# drop None values\n",
    "df = df.dropna()\n",
    "#df.to_csv('dataset_caracteristiques.csv', index=False)\n",
    "df.head()"
   ]
  },
  {
   "cell_type": "markdown",
   "metadata": {},
   "source": [
    "### K-Fold KNN"
   ]
  },
  {
   "cell_type": "code",
   "execution_count": 104,
   "metadata": {},
   "outputs": [
    {
     "name": "stdout",
     "output_type": "stream",
     "text": [
      "Accuracy: [0.64, 0.5535714285714286, 0.6517857142857143, 0.6160714285714286, 0.6741071428571429]\n",
      "F1 Score: [0.6465339758517595, 0.5600283146378857, 0.6544840387632584, 0.6231465974952572, 0.6766798927026739]\n"
     ]
    }
   ],
   "source": [
    "from sklearn.model_selection import KFold\n",
    "\n",
    "X_rgb = np.array(df['RGB'].values.tolist())\n",
    "X_lbp = np.array(df['LBP'].values.tolist())\n",
    "X_luminance = np.array(df['Luminance'].values.tolist())\n",
    "X_hsv = np.array(df['HSV'].values.tolist())\n",
    "\n",
    "X = np.column_stack((X_rgb, X_lbp, X_luminance, X_hsv))\n",
    "\n",
    "y = df['Label']\n",
    "\n",
    "kf = KFold(n_splits=5, shuffle=True, random_state=0)\n",
    "accuracy_list_Knn = []\n",
    "f1_score_list_Knn = []\n",
    "\n",
    "for train_index, test_index in kf.split(X):\n",
    "    X_train, X_test = X[train_index], X[test_index]\n",
    "    y_train, y_test = y.iloc[train_index], y.iloc[test_index]\n",
    "    \n",
    "    knn = KNeighborsClassifier(n_neighbors=5, metric='euclidean')\n",
    "    knn.fit(X_train, y_train)\n",
    "    y_pred = knn.predict(X_test)\n",
    "    \n",
    "    accuracy = accuracy_score(y_test, y_pred)\n",
    "    accuracy_list_Knn.append(accuracy)\n",
    "\n",
    "    f1 = f1_score(y_test, y_pred, average='weighted')\n",
    "    f1_score_list_Knn.append(f1)\n",
    "\n",
    "print(\"Accuracy:\", accuracy_list_Knn)\n",
    "print(\"F1 Score:\", f1_score_list_Knn)\n",
    "\n",
    "checkpoint_data = {\n",
    "    'model_name': 'K-Nearest Neighbors with KFold',\n",
    "    'features': ['RGB', 'LBP', 'Luminance', 'HSV'],\n",
    "    'model_parameters': knn.get_params(),\n",
    "    'accuracy': accuracy_list_Knn,\n",
    "    'f1_score': f1_score_list_Knn\n",
    "}\n",
    "\n",
    "checkpoint.append(checkpoint_data)"
   ]
  },
  {
   "cell_type": "markdown",
   "metadata": {},
   "source": [
    "### K-Fold Gradient Boost"
   ]
  },
  {
   "cell_type": "code",
   "execution_count": 110,
   "metadata": {},
   "outputs": [
    {
     "name": "stdout",
     "output_type": "stream",
     "text": [
      "Accuracy: [0.9111111111111111, 0.8705357142857143, 0.8928571428571429, 0.9375, 0.8973214285714286]\n",
      "F1 Score: [0.9113312334817711, 0.8697867638485183, 0.8923303696478592, 0.9379155654668445, 0.8970381239170196]\n"
     ]
    }
   ],
   "source": [
    "checkpoint_data = {}\n",
    "accuracy_list_gb = []\n",
    "f1_score_list_gb = []\n",
    "acc = 0\n",
    "X_train = None\n",
    "X_test = None\n",
    "y_train = None\n",
    "y_test = None\n",
    "\n",
    "for train_index, test_index in kf.split(X):\n",
    "    X_train, X_test = X[train_index], X[test_index]\n",
    "    y_train, y_test = y.iloc[train_index], y.iloc[test_index]\n",
    "    \n",
    "    gb = GradientBoostingClassifier(n_estimators=100, learning_rate=0.1, max_depth=5, random_state=0)\n",
    "    gb.fit(X_train, y_train)\n",
    "    y_pred = gb.predict(X_test)\n",
    "    \n",
    "    accuracy = accuracy_score(y_test, y_pred)\n",
    "    accuracy_list_gb.append(accuracy)\n",
    "\n",
    "    f1 = f1_score(y_test, y_pred, average='weighted')\n",
    "    f1_score_list_gb.append(f1)\n",
    "\n",
    "print(\"Accuracy:\", accuracy_list_gb)\n",
    "print(\"F1 Score:\", f1_score_list_gb)\n",
    "\n"
   ]
  },
  {
   "cell_type": "code",
   "execution_count": 112,
   "metadata": {},
   "outputs": [
    {
     "ename": "TypeError",
     "evalue": "Singleton array array('Nuageux', dtype='<U7') cannot be considered a valid collection.",
     "output_type": "error",
     "traceback": [
      "\u001b[1;31m---------------------------------------------------------------------------\u001b[0m",
      "\u001b[1;31mTypeError\u001b[0m                                 Traceback (most recent call last)",
      "\u001b[1;32mc:\\Users\\JALAL\\OneDrive\\Bureau\\RdF\\VF.ipynb Cell 60\u001b[0m line \u001b[0;36m6\n\u001b[0;32m      <a href='vscode-notebook-cell:/c%3A/Users/JALAL/OneDrive/Bureau/RdF/VF.ipynb#Y122sZmlsZQ%3D%3D?line=2'>3</a>\u001b[0m y_train, y_test \u001b[39m=\u001b[39m y\u001b[39m.\u001b[39miloc[best_index], y\u001b[39m.\u001b[39miloc[best_index]\n\u001b[0;32m      <a href='vscode-notebook-cell:/c%3A/Users/JALAL/OneDrive/Bureau/RdF/VF.ipynb#Y122sZmlsZQ%3D%3D?line=4'>5</a>\u001b[0m gb \u001b[39m=\u001b[39m GradientBoostingClassifier(n_estimators\u001b[39m=\u001b[39m\u001b[39m100\u001b[39m, learning_rate\u001b[39m=\u001b[39m\u001b[39m0.1\u001b[39m, max_depth\u001b[39m=\u001b[39m\u001b[39m5\u001b[39m, random_state\u001b[39m=\u001b[39m\u001b[39m0\u001b[39m)\n\u001b[1;32m----> <a href='vscode-notebook-cell:/c%3A/Users/JALAL/OneDrive/Bureau/RdF/VF.ipynb#Y122sZmlsZQ%3D%3D?line=5'>6</a>\u001b[0m gb\u001b[39m.\u001b[39;49mfit(X_train, y_train)\n\u001b[0;32m      <a href='vscode-notebook-cell:/c%3A/Users/JALAL/OneDrive/Bureau/RdF/VF.ipynb#Y122sZmlsZQ%3D%3D?line=6'>7</a>\u001b[0m y_pred \u001b[39m=\u001b[39m gb\u001b[39m.\u001b[39mpredict(X_test)\n\u001b[0;32m      <a href='vscode-notebook-cell:/c%3A/Users/JALAL/OneDrive/Bureau/RdF/VF.ipynb#Y122sZmlsZQ%3D%3D?line=8'>9</a>\u001b[0m accuracy \u001b[39m=\u001b[39m accuracy_score(y_test, y_pred)\n",
      "File \u001b[1;32mc:\\Users\\JALAL\\anaconda3\\Lib\\site-packages\\sklearn\\ensemble\\_gb.py:429\u001b[0m, in \u001b[0;36mBaseGradientBoosting.fit\u001b[1;34m(self, X, y, sample_weight, monitor)\u001b[0m\n\u001b[0;32m    423\u001b[0m     \u001b[39mself\u001b[39m\u001b[39m.\u001b[39m_clear_state()\n\u001b[0;32m    425\u001b[0m \u001b[39m# Check input\u001b[39;00m\n\u001b[0;32m    426\u001b[0m \u001b[39m# Since check_array converts both X and y to the same dtype, but the\u001b[39;00m\n\u001b[0;32m    427\u001b[0m \u001b[39m# trees use different types for X and y, checking them separately.\u001b[39;00m\n\u001b[1;32m--> 429\u001b[0m X, y \u001b[39m=\u001b[39m \u001b[39mself\u001b[39;49m\u001b[39m.\u001b[39;49m_validate_data(\n\u001b[0;32m    430\u001b[0m     X, y, accept_sparse\u001b[39m=\u001b[39;49m[\u001b[39m\"\u001b[39;49m\u001b[39mcsr\u001b[39;49m\u001b[39m\"\u001b[39;49m, \u001b[39m\"\u001b[39;49m\u001b[39mcsc\u001b[39;49m\u001b[39m\"\u001b[39;49m, \u001b[39m\"\u001b[39;49m\u001b[39mcoo\u001b[39;49m\u001b[39m\"\u001b[39;49m], dtype\u001b[39m=\u001b[39;49mDTYPE, multi_output\u001b[39m=\u001b[39;49m\u001b[39mTrue\u001b[39;49;00m\n\u001b[0;32m    431\u001b[0m )\n\u001b[0;32m    433\u001b[0m sample_weight_is_none \u001b[39m=\u001b[39m sample_weight \u001b[39mis\u001b[39;00m \u001b[39mNone\u001b[39;00m\n\u001b[0;32m    435\u001b[0m sample_weight \u001b[39m=\u001b[39m _check_sample_weight(sample_weight, X)\n",
      "File \u001b[1;32mc:\\Users\\JALAL\\anaconda3\\Lib\\site-packages\\sklearn\\base.py:584\u001b[0m, in \u001b[0;36mBaseEstimator._validate_data\u001b[1;34m(self, X, y, reset, validate_separately, **check_params)\u001b[0m\n\u001b[0;32m    582\u001b[0m         y \u001b[39m=\u001b[39m check_array(y, input_name\u001b[39m=\u001b[39m\u001b[39m\"\u001b[39m\u001b[39my\u001b[39m\u001b[39m\"\u001b[39m, \u001b[39m*\u001b[39m\u001b[39m*\u001b[39mcheck_y_params)\n\u001b[0;32m    583\u001b[0m     \u001b[39melse\u001b[39;00m:\n\u001b[1;32m--> 584\u001b[0m         X, y \u001b[39m=\u001b[39m check_X_y(X, y, \u001b[39m*\u001b[39;49m\u001b[39m*\u001b[39;49mcheck_params)\n\u001b[0;32m    585\u001b[0m     out \u001b[39m=\u001b[39m X, y\n\u001b[0;32m    587\u001b[0m \u001b[39mif\u001b[39;00m \u001b[39mnot\u001b[39;00m no_val_X \u001b[39mand\u001b[39;00m check_params\u001b[39m.\u001b[39mget(\u001b[39m\"\u001b[39m\u001b[39mensure_2d\u001b[39m\u001b[39m\"\u001b[39m, \u001b[39mTrue\u001b[39;00m):\n",
      "File \u001b[1;32mc:\\Users\\JALAL\\anaconda3\\Lib\\site-packages\\sklearn\\utils\\validation.py:1122\u001b[0m, in \u001b[0;36mcheck_X_y\u001b[1;34m(X, y, accept_sparse, accept_large_sparse, dtype, order, copy, force_all_finite, ensure_2d, allow_nd, multi_output, ensure_min_samples, ensure_min_features, y_numeric, estimator)\u001b[0m\n\u001b[0;32m   1102\u001b[0m     \u001b[39mraise\u001b[39;00m \u001b[39mValueError\u001b[39;00m(\n\u001b[0;32m   1103\u001b[0m         \u001b[39mf\u001b[39m\u001b[39m\"\u001b[39m\u001b[39m{\u001b[39;00mestimator_name\u001b[39m}\u001b[39;00m\u001b[39m requires y to be passed, but the target y is None\u001b[39m\u001b[39m\"\u001b[39m\n\u001b[0;32m   1104\u001b[0m     )\n\u001b[0;32m   1106\u001b[0m X \u001b[39m=\u001b[39m check_array(\n\u001b[0;32m   1107\u001b[0m     X,\n\u001b[0;32m   1108\u001b[0m     accept_sparse\u001b[39m=\u001b[39maccept_sparse,\n\u001b[1;32m   (...)\u001b[0m\n\u001b[0;32m   1119\u001b[0m     input_name\u001b[39m=\u001b[39m\u001b[39m\"\u001b[39m\u001b[39mX\u001b[39m\u001b[39m\"\u001b[39m,\n\u001b[0;32m   1120\u001b[0m )\n\u001b[1;32m-> 1122\u001b[0m y \u001b[39m=\u001b[39m _check_y(y, multi_output\u001b[39m=\u001b[39;49mmulti_output, y_numeric\u001b[39m=\u001b[39;49my_numeric, estimator\u001b[39m=\u001b[39;49mestimator)\n\u001b[0;32m   1124\u001b[0m check_consistent_length(X, y)\n\u001b[0;32m   1126\u001b[0m \u001b[39mreturn\u001b[39;00m X, y\n",
      "File \u001b[1;32mc:\\Users\\JALAL\\anaconda3\\Lib\\site-packages\\sklearn\\utils\\validation.py:1132\u001b[0m, in \u001b[0;36m_check_y\u001b[1;34m(y, multi_output, y_numeric, estimator)\u001b[0m\n\u001b[0;32m   1130\u001b[0m \u001b[39m\u001b[39m\u001b[39m\"\"\"Isolated part of check_X_y dedicated to y validation\"\"\"\u001b[39;00m\n\u001b[0;32m   1131\u001b[0m \u001b[39mif\u001b[39;00m multi_output:\n\u001b[1;32m-> 1132\u001b[0m     y \u001b[39m=\u001b[39m check_array(\n\u001b[0;32m   1133\u001b[0m         y,\n\u001b[0;32m   1134\u001b[0m         accept_sparse\u001b[39m=\u001b[39;49m\u001b[39m\"\u001b[39;49m\u001b[39mcsr\u001b[39;49m\u001b[39m\"\u001b[39;49m,\n\u001b[0;32m   1135\u001b[0m         force_all_finite\u001b[39m=\u001b[39;49m\u001b[39mTrue\u001b[39;49;00m,\n\u001b[0;32m   1136\u001b[0m         ensure_2d\u001b[39m=\u001b[39;49m\u001b[39mFalse\u001b[39;49;00m,\n\u001b[0;32m   1137\u001b[0m         dtype\u001b[39m=\u001b[39;49m\u001b[39mNone\u001b[39;49;00m,\n\u001b[0;32m   1138\u001b[0m         input_name\u001b[39m=\u001b[39;49m\u001b[39m\"\u001b[39;49m\u001b[39my\u001b[39;49m\u001b[39m\"\u001b[39;49m,\n\u001b[0;32m   1139\u001b[0m         estimator\u001b[39m=\u001b[39;49mestimator,\n\u001b[0;32m   1140\u001b[0m     )\n\u001b[0;32m   1141\u001b[0m \u001b[39melse\u001b[39;00m:\n\u001b[0;32m   1142\u001b[0m     estimator_name \u001b[39m=\u001b[39m _check_estimator_name(estimator)\n",
      "File \u001b[1;32mc:\\Users\\JALAL\\anaconda3\\Lib\\site-packages\\sklearn\\utils\\validation.py:929\u001b[0m, in \u001b[0;36mcheck_array\u001b[1;34m(array, accept_sparse, accept_large_sparse, dtype, order, copy, force_all_finite, ensure_2d, allow_nd, ensure_min_samples, ensure_min_features, estimator, input_name)\u001b[0m\n\u001b[0;32m    921\u001b[0m         _assert_all_finite(\n\u001b[0;32m    922\u001b[0m             array,\n\u001b[0;32m    923\u001b[0m             input_name\u001b[39m=\u001b[39minput_name,\n\u001b[0;32m    924\u001b[0m             estimator_name\u001b[39m=\u001b[39mestimator_name,\n\u001b[0;32m    925\u001b[0m             allow_nan\u001b[39m=\u001b[39mforce_all_finite \u001b[39m==\u001b[39m \u001b[39m\"\u001b[39m\u001b[39mallow-nan\u001b[39m\u001b[39m\"\u001b[39m,\n\u001b[0;32m    926\u001b[0m         )\n\u001b[0;32m    928\u001b[0m \u001b[39mif\u001b[39;00m ensure_min_samples \u001b[39m>\u001b[39m \u001b[39m0\u001b[39m:\n\u001b[1;32m--> 929\u001b[0m     n_samples \u001b[39m=\u001b[39m _num_samples(array)\n\u001b[0;32m    930\u001b[0m     \u001b[39mif\u001b[39;00m n_samples \u001b[39m<\u001b[39m ensure_min_samples:\n\u001b[0;32m    931\u001b[0m         \u001b[39mraise\u001b[39;00m \u001b[39mValueError\u001b[39;00m(\n\u001b[0;32m    932\u001b[0m             \u001b[39m\"\u001b[39m\u001b[39mFound array with \u001b[39m\u001b[39m%d\u001b[39;00m\u001b[39m sample(s) (shape=\u001b[39m\u001b[39m%s\u001b[39;00m\u001b[39m) while a\u001b[39m\u001b[39m\"\u001b[39m\n\u001b[0;32m    933\u001b[0m             \u001b[39m\"\u001b[39m\u001b[39m minimum of \u001b[39m\u001b[39m%d\u001b[39;00m\u001b[39m is required\u001b[39m\u001b[39m%s\u001b[39;00m\u001b[39m.\u001b[39m\u001b[39m\"\u001b[39m\n\u001b[0;32m    934\u001b[0m             \u001b[39m%\u001b[39m (n_samples, array\u001b[39m.\u001b[39mshape, ensure_min_samples, context)\n\u001b[0;32m    935\u001b[0m         )\n",
      "File \u001b[1;32mc:\\Users\\JALAL\\anaconda3\\Lib\\site-packages\\sklearn\\utils\\validation.py:335\u001b[0m, in \u001b[0;36m_num_samples\u001b[1;34m(x)\u001b[0m\n\u001b[0;32m    333\u001b[0m \u001b[39mif\u001b[39;00m \u001b[39mhasattr\u001b[39m(x, \u001b[39m\"\u001b[39m\u001b[39mshape\u001b[39m\u001b[39m\"\u001b[39m) \u001b[39mand\u001b[39;00m x\u001b[39m.\u001b[39mshape \u001b[39mis\u001b[39;00m \u001b[39mnot\u001b[39;00m \u001b[39mNone\u001b[39;00m:\n\u001b[0;32m    334\u001b[0m     \u001b[39mif\u001b[39;00m \u001b[39mlen\u001b[39m(x\u001b[39m.\u001b[39mshape) \u001b[39m==\u001b[39m \u001b[39m0\u001b[39m:\n\u001b[1;32m--> 335\u001b[0m         \u001b[39mraise\u001b[39;00m \u001b[39mTypeError\u001b[39;00m(\n\u001b[0;32m    336\u001b[0m             \u001b[39m\"\u001b[39m\u001b[39mSingleton array \u001b[39m\u001b[39m%r\u001b[39;00m\u001b[39m cannot be considered a valid collection.\u001b[39m\u001b[39m\"\u001b[39m \u001b[39m%\u001b[39m x\n\u001b[0;32m    337\u001b[0m         )\n\u001b[0;32m    338\u001b[0m     \u001b[39m# Check that shape is returning an integer or default to len\u001b[39;00m\n\u001b[0;32m    339\u001b[0m     \u001b[39m# Dask dataframes may not return numeric shape[0] value\u001b[39;00m\n\u001b[0;32m    340\u001b[0m     \u001b[39mif\u001b[39;00m \u001b[39misinstance\u001b[39m(x\u001b[39m.\u001b[39mshape[\u001b[39m0\u001b[39m], numbers\u001b[39m.\u001b[39mIntegral):\n",
      "\u001b[1;31mTypeError\u001b[0m: Singleton array array('Nuageux', dtype='<U7') cannot be considered a valid collection."
     ]
    }
   ],
   "source": [
    "best_index = accuracy_list_gb.index(max(accuracy_list_gb))\n",
    "X_train, X_test = X[best_index].reshape(-1, 1), X[best_index].reshape(-1, 1)\n",
    "y_train, y_test = y.iloc[best_index], y.iloc[best_index]\n",
    "\n",
    "gb = GradientBoostingClassifier(n_estimators=100, learning_rate=0.1, max_depth=5, random_state=0)\n",
    "gb.fit(X_train, y_train)\n",
    "y_pred = gb.predict(X_test)\n",
    "\n",
    "accuracy = accuracy_score(y_test, y_pred)\n",
    "print(\"Accuracy:\", accuracy)\n",
    "\n",
    "print(\"Classification Report:\")\n",
    "print(classification_report(y_test, y_pred))\n",
    "\n",
    "cm = confusion_matrix(y_test, y_pred)\n",
    "ax = plt.subplot()\n",
    "sns.heatmap(cm, vmin=0, vmax=26, center=10, cmap=plt.cm.Blues, annot=True)\n",
    "ax.set_xlabel('Predicted Labels');ax.set_ylabel('True Labels')\n",
    "ax.set_title('Confusion Matrix')\n",
    "ax.xaxis.set_ticklabels(['Lever du soleil', 'Nuageux', \"Ensoleillé\", 'Pluvieux'])\n",
    "ax.yaxis.set_ticklabels(['Lever du soleil', 'Nuageux', \"Ensoleillé\", 'Pluvieux'])\n"
   ]
  },
  {
   "cell_type": "code",
   "execution_count": null,
   "metadata": {},
   "outputs": [],
   "source": [
    "checkpoint_data = {\n",
    "    'model_name': 'Gradient Boost with KFold',\n",
    "    'features': ['RGB', 'LBP', 'Luminance', 'HSV'],\n",
    "    'model_parameters': gb.get_params(),\n",
    "    'accuracy': accuracy_list_gb,\n",
    "    'f1_score': f1_score_list_gb\n",
    "}\n",
    "\n",
    "checkpoint.append(checkpoint_data)"
   ]
  },
  {
   "cell_type": "markdown",
   "metadata": {},
   "source": [
    "# Save checkpoints"
   ]
  },
  {
   "cell_type": "code",
   "execution_count": 101,
   "metadata": {},
   "outputs": [],
   "source": [
    "# Save the checkpoint data to a JSON file\n",
    "checkpoint_file = 'checkpoint.json'\n",
    "with open(checkpoint_file, 'a') as f:\n",
    "    json.dump(checkpoint, f)"
   ]
  }
 ],
 "metadata": {
  "kernelspec": {
   "display_name": "Python 3",
   "language": "python",
   "name": "python3"
  },
  "language_info": {
   "codemirror_mode": {
    "name": "ipython",
    "version": 3
   },
   "file_extension": ".py",
   "mimetype": "text/x-python",
   "name": "python",
   "nbconvert_exporter": "python",
   "pygments_lexer": "ipython3",
   "version": "3.11.3"
  }
 },
 "nbformat": 4,
 "nbformat_minor": 2
}
