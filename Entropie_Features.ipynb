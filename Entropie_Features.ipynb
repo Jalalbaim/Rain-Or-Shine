{
 "cells": [
  {
   "cell_type": "markdown",
   "metadata": {},
   "source": [
    "# Calcul d'entropie des caractéristiques\n",
    "***\n",
    "**Authors**: BAIM Mohamed, MHAJAR Youness, BEZZAZ Ilias, GUERIN Marius, BANANI Amine, CHAQUIQ ELBADRE Youssef"
   ]
  },
  {
   "cell_type": "code",
   "execution_count": 42,
   "metadata": {},
   "outputs": [],
   "source": [
    "# Libraries \n",
    "import os\n",
    "import pandas as pd\n",
    "from scipy.stats import entropy\n",
    "import numpy as np\n",
    "import ast "
   ]
  },
  {
   "cell_type": "markdown",
   "metadata": {},
   "source": [
    "Lors de l'entraînement, nous avons extrait diverses caractéristiques de chaque image pour entraîner notre modèle. Ces caractéristiques ont été enregistrées dans un fichier CSV pour ensuite calculer l'entropie des caractéristiques et ainsi les évaluer."
   ]
  },
  {
   "cell_type": "code",
   "execution_count": 55,
   "metadata": {},
   "outputs": [
    {
     "data": {
      "text/html": [
       "<div>\n",
       "<style scoped>\n",
       "    .dataframe tbody tr th:only-of-type {\n",
       "        vertical-align: middle;\n",
       "    }\n",
       "\n",
       "    .dataframe tbody tr th {\n",
       "        vertical-align: top;\n",
       "    }\n",
       "\n",
       "    .dataframe thead th {\n",
       "        text-align: right;\n",
       "    }\n",
       "</style>\n",
       "<table border=\"1\" class=\"dataframe\">\n",
       "  <thead>\n",
       "    <tr style=\"text-align: right;\">\n",
       "      <th></th>\n",
       "      <th>Picture Path</th>\n",
       "      <th>Label</th>\n",
       "      <th>width</th>\n",
       "      <th>height</th>\n",
       "      <th>Luminance</th>\n",
       "      <th>RGB</th>\n",
       "      <th>LBP</th>\n",
       "      <th>HSV</th>\n",
       "    </tr>\n",
       "  </thead>\n",
       "  <tbody>\n",
       "    <tr>\n",
       "      <th>0</th>\n",
       "      <td>./Multi-class Weather Dataset/Cloudy/cloudy1.jpg</td>\n",
       "      <td>Nuageux</td>\n",
       "      <td>600</td>\n",
       "      <td>400</td>\n",
       "      <td>0.178594</td>\n",
       "      <td>[126.34504885660581, 126.34504885660581, 126.3...</td>\n",
       "      <td>[451, 2006, 1591, 15454, 34446, 33885, 9137, 6...</td>\n",
       "      <td>[0.0, 0.0]</td>\n",
       "    </tr>\n",
       "    <tr>\n",
       "      <th>1</th>\n",
       "      <td>./Multi-class Weather Dataset/Cloudy/cloudy10.jpg</td>\n",
       "      <td>Nuageux</td>\n",
       "      <td>271</td>\n",
       "      <td>186</td>\n",
       "      <td>0.118810</td>\n",
       "      <td>[152.9002701495305, 169.04855283246093, 198.54...</td>\n",
       "      <td>[189, 1748, 894, 11282, 31090, 39998, 7514, 65...</td>\n",
       "      <td>[109.50477081542171, 60.599630809689984]</td>\n",
       "    </tr>\n",
       "    <tr>\n",
       "      <th>2</th>\n",
       "      <td>./Multi-class Weather Dataset/Cloudy/cloudy100...</td>\n",
       "      <td>Nuageux</td>\n",
       "      <td>259</td>\n",
       "      <td>194</td>\n",
       "      <td>0.134323</td>\n",
       "      <td>[150.96056491174835, 153.7316055129364, 155.91...</td>\n",
       "      <td>[816, 3787, 2685, 13576, 36313, 31807, 7939, 5...</td>\n",
       "      <td>[92.744845664964, 54.62629174463494]</td>\n",
       "    </tr>\n",
       "    <tr>\n",
       "      <th>3</th>\n",
       "      <td>./Multi-class Weather Dataset/Cloudy/cloudy101...</td>\n",
       "      <td>Nuageux</td>\n",
       "      <td>338</td>\n",
       "      <td>149</td>\n",
       "      <td>0.126442</td>\n",
       "      <td>[171.27977071005918, 177.1194305365903, 200.47...</td>\n",
       "      <td>[285, 1755, 1077, 13818, 29452, 38865, 8806, 7...</td>\n",
       "      <td>[123.27952258129773, 40.92878335777744]</td>\n",
       "    </tr>\n",
       "    <tr>\n",
       "      <th>4</th>\n",
       "      <td>./Multi-class Weather Dataset/Cloudy/cloudy102...</td>\n",
       "      <td>Nuageux</td>\n",
       "      <td>800</td>\n",
       "      <td>377</td>\n",
       "      <td>0.190307</td>\n",
       "      <td>[133.36938839157773, 145.10622021532942, 168.6...</td>\n",
       "      <td>[1314, 3819, 2962, 15665, 32156, 29125, 10206,...</td>\n",
       "      <td>[109.98722163219205, 57.693647903707074]</td>\n",
       "    </tr>\n",
       "  </tbody>\n",
       "</table>\n",
       "</div>"
      ],
      "text/plain": [
       "                                        Picture Path    Label  width  height  \\\n",
       "0   ./Multi-class Weather Dataset/Cloudy/cloudy1.jpg  Nuageux    600     400   \n",
       "1  ./Multi-class Weather Dataset/Cloudy/cloudy10.jpg  Nuageux    271     186   \n",
       "2  ./Multi-class Weather Dataset/Cloudy/cloudy100...  Nuageux    259     194   \n",
       "3  ./Multi-class Weather Dataset/Cloudy/cloudy101...  Nuageux    338     149   \n",
       "4  ./Multi-class Weather Dataset/Cloudy/cloudy102...  Nuageux    800     377   \n",
       "\n",
       "   Luminance                                                RGB  \\\n",
       "0   0.178594  [126.34504885660581, 126.34504885660581, 126.3...   \n",
       "1   0.118810  [152.9002701495305, 169.04855283246093, 198.54...   \n",
       "2   0.134323  [150.96056491174835, 153.7316055129364, 155.91...   \n",
       "3   0.126442  [171.27977071005918, 177.1194305365903, 200.47...   \n",
       "4   0.190307  [133.36938839157773, 145.10622021532942, 168.6...   \n",
       "\n",
       "                                                 LBP  \\\n",
       "0  [451, 2006, 1591, 15454, 34446, 33885, 9137, 6...   \n",
       "1  [189, 1748, 894, 11282, 31090, 39998, 7514, 65...   \n",
       "2  [816, 3787, 2685, 13576, 36313, 31807, 7939, 5...   \n",
       "3  [285, 1755, 1077, 13818, 29452, 38865, 8806, 7...   \n",
       "4  [1314, 3819, 2962, 15665, 32156, 29125, 10206,...   \n",
       "\n",
       "                                        HSV  \n",
       "0                                [0.0, 0.0]  \n",
       "1  [109.50477081542171, 60.599630809689984]  \n",
       "2      [92.744845664964, 54.62629174463494]  \n",
       "3   [123.27952258129773, 40.92878335777744]  \n",
       "4  [109.98722163219205, 57.693647903707074]  "
      ]
     },
     "execution_count": 55,
     "metadata": {},
     "output_type": "execute_result"
    }
   ],
   "source": [
    "# Récupère les caracteriiqtiques extraites de chaque image \n",
    "\n",
    "df = pd.read_csv('dataset_caracteristiques.csv')\n",
    "df.head()"
   ]
  },
  {
   "cell_type": "code",
   "execution_count": 57,
   "metadata": {},
   "outputs": [
    {
     "name": "stdout",
     "output_type": "stream",
     "text": [
      "Luminance Entropy : 2.71\n"
     ]
    }
   ],
   "source": [
    "# Calcul de l'entropie de la luminance globale\n",
    "\n",
    "luminance_values = df['Luminance']\n",
    "histogram, _ = np.histogram(luminance_values, bins=10, density=True)\n",
    "luminance_entropy = entropy(histogram, base=2).round(2)\n",
    "\n",
    "print(\"Luminance Entropy :\",luminance_entropy)\n"
   ]
  },
  {
   "cell_type": "code",
   "execution_count": 58,
   "metadata": {},
   "outputs": [
    {
     "name": "stdout",
     "output_type": "stream",
     "text": [
      "Luminance Entropy by Label:\n",
      "Label\n",
      "Ensoleillé         2.95\n",
      "Lever du soleil    2.74\n",
      "Nuageux            2.87\n",
      "Pluvieux           3.06\n",
      "Name: Luminance, dtype: float64\n"
     ]
    }
   ],
   "source": [
    "# Calcul de l'entropie de la luminance par classe\n",
    "\n",
    "luminance_entropy_by_label = df.groupby('Label')['Luminance'].apply(lambda x: entropy(np.histogram(x, bins=10, density=True)[0], base=2).round(2))\n",
    "\n",
    "print(\"Luminance Entropy by Label:\")\n",
    "print(luminance_entropy_by_label)\n"
   ]
  },
  {
   "cell_type": "code",
   "execution_count": 59,
   "metadata": {},
   "outputs": [
    {
     "data": {
      "text/html": [
       "<div>\n",
       "<style scoped>\n",
       "    .dataframe tbody tr th:only-of-type {\n",
       "        vertical-align: middle;\n",
       "    }\n",
       "\n",
       "    .dataframe tbody tr th {\n",
       "        vertical-align: top;\n",
       "    }\n",
       "\n",
       "    .dataframe thead th {\n",
       "        text-align: right;\n",
       "    }\n",
       "</style>\n",
       "<table border=\"1\" class=\"dataframe\">\n",
       "  <thead>\n",
       "    <tr style=\"text-align: right;\">\n",
       "      <th></th>\n",
       "      <th>Luminance</th>\n",
       "    </tr>\n",
       "    <tr>\n",
       "      <th>Label</th>\n",
       "      <th></th>\n",
       "    </tr>\n",
       "  </thead>\n",
       "  <tbody>\n",
       "    <tr>\n",
       "      <th>Ensoleillé</th>\n",
       "      <td>2.95</td>\n",
       "    </tr>\n",
       "    <tr>\n",
       "      <th>Lever du soleil</th>\n",
       "      <td>2.74</td>\n",
       "    </tr>\n",
       "    <tr>\n",
       "      <th>Nuageux</th>\n",
       "      <td>2.87</td>\n",
       "    </tr>\n",
       "    <tr>\n",
       "      <th>Pluvieux</th>\n",
       "      <td>3.06</td>\n",
       "    </tr>\n",
       "  </tbody>\n",
       "</table>\n",
       "</div>"
      ],
      "text/plain": [
       "                 Luminance\n",
       "Label                     \n",
       "Ensoleillé            2.95\n",
       "Lever du soleil       2.74\n",
       "Nuageux               2.87\n",
       "Pluvieux              3.06"
      ]
     },
     "execution_count": 59,
     "metadata": {},
     "output_type": "execute_result"
    }
   ],
   "source": [
    "luminance_entropy_df = pd.DataFrame(luminance_entropy_by_label)\n",
    "luminance_entropy_df"
   ]
  },
  {
   "cell_type": "code",
   "execution_count": 60,
   "metadata": {},
   "outputs": [
    {
     "data": {
      "text/plain": [
       "{'R': 2.82, 'G': 2.83, 'B': 3.21}"
      ]
     },
     "execution_count": 60,
     "metadata": {},
     "output_type": "execute_result"
    }
   ],
   "source": [
    "# Calcul de l'entropie de chaque canal RGB de maniere globale\n",
    "\n",
    "df['RGB'] = df['RGB'].apply(lambda x: ast.literal_eval(x) if isinstance(x, str) else x)\n",
    "rgb_df = pd.DataFrame(df['RGB'].tolist(), columns=['R', 'G', 'B'])\n",
    "\n",
    "# Calculate the entropy for each RGB channel\n",
    "rgb_entropy = {}\n",
    "for channel in ['R', 'G', 'B']:\n",
    "    hist, _ = np.histogram(rgb_df[channel], bins=10, density=True)\n",
    "    rgb_entropy[channel] = entropy(hist, base=2).round(2)\n",
    "\n",
    "rgb_entropy\n"
   ]
  },
  {
   "cell_type": "code",
   "execution_count": 61,
   "metadata": {},
   "outputs": [
    {
     "data": {
      "text/plain": [
       "{'Ensoleillé': {'R': 2.89, 'G': 3.02, 'B': 2.42},\n",
       " 'Lever du soleil': {'R': 2.99, 'G': 2.92, 'B': 2.88},\n",
       " 'Nuageux': {'R': 2.87, 'G': 2.96, 'B': 2.97},\n",
       " 'Pluvieux': {'R': 2.92, 'G': 2.95, 'B': 2.89}}"
      ]
     },
     "execution_count": 61,
     "metadata": {},
     "output_type": "execute_result"
    }
   ],
   "source": [
    "# Calcul de l'entropie de chaque canal RGB par classe \n",
    "\n",
    "df['RGB'] = df['RGB'].apply(lambda x: ast.literal_eval(x) if isinstance(x, str) else x)\n",
    "\n",
    "# Split RGB into separate columns\n",
    "rgb_df = pd.DataFrame(df['RGB'].tolist(), columns=['R', 'G', 'B'])\n",
    "rgb_df['Class'] = df['Label']  \n",
    "class_entropy = {}\n",
    "\n",
    "# Calculate the entropy for each channel within each class\n",
    "for class_name, group in rgb_df.groupby('Class'):\n",
    "    class_entropy[class_name] = {}\n",
    "    for channel in ['R', 'G', 'B']:\n",
    "        hist, _ = np.histogram(group[channel], bins=10, density=True)\n",
    "        class_entropy[class_name][channel] = entropy(hist, base=2).round(2)\n",
    "\n",
    "class_entropy\n"
   ]
  },
  {
   "cell_type": "code",
   "execution_count": 49,
   "metadata": {},
   "outputs": [
    {
     "data": {
      "text/html": [
       "<div>\n",
       "<style scoped>\n",
       "    .dataframe tbody tr th:only-of-type {\n",
       "        vertical-align: middle;\n",
       "    }\n",
       "\n",
       "    .dataframe tbody tr th {\n",
       "        vertical-align: top;\n",
       "    }\n",
       "\n",
       "    .dataframe thead th {\n",
       "        text-align: right;\n",
       "    }\n",
       "</style>\n",
       "<table border=\"1\" class=\"dataframe\">\n",
       "  <thead>\n",
       "    <tr style=\"text-align: right;\">\n",
       "      <th></th>\n",
       "      <th>R</th>\n",
       "      <th>G</th>\n",
       "      <th>B</th>\n",
       "    </tr>\n",
       "  </thead>\n",
       "  <tbody>\n",
       "    <tr>\n",
       "      <th>Ensoleillé</th>\n",
       "      <td>2.89</td>\n",
       "      <td>3.02</td>\n",
       "      <td>2.42</td>\n",
       "    </tr>\n",
       "    <tr>\n",
       "      <th>Lever du soleil</th>\n",
       "      <td>2.99</td>\n",
       "      <td>2.92</td>\n",
       "      <td>2.88</td>\n",
       "    </tr>\n",
       "    <tr>\n",
       "      <th>Nuageux</th>\n",
       "      <td>2.87</td>\n",
       "      <td>2.96</td>\n",
       "      <td>2.97</td>\n",
       "    </tr>\n",
       "    <tr>\n",
       "      <th>Pluvieux</th>\n",
       "      <td>2.92</td>\n",
       "      <td>2.95</td>\n",
       "      <td>2.89</td>\n",
       "    </tr>\n",
       "  </tbody>\n",
       "</table>\n",
       "</div>"
      ],
      "text/plain": [
       "                    R     G     B\n",
       "Ensoleillé       2.89  3.02  2.42\n",
       "Lever du soleil  2.99  2.92  2.88\n",
       "Nuageux          2.87  2.96  2.97\n",
       "Pluvieux         2.92  2.95  2.89"
      ]
     },
     "execution_count": 49,
     "metadata": {},
     "output_type": "execute_result"
    }
   ],
   "source": [
    "RGB_Enteropy_df = pd.DataFrame(class_entropy)\n",
    "RGB_Enteropy_df = RGB_Enteropy_df.transpose()\n",
    "RGB_Enteropy_df\n"
   ]
  },
  {
   "cell_type": "code",
   "execution_count": 63,
   "metadata": {},
   "outputs": [
    {
     "data": {
      "text/plain": [
       "{'H': 2.95, 'S': 3.16}"
      ]
     },
     "execution_count": 63,
     "metadata": {},
     "output_type": "execute_result"
    }
   ],
   "source": [
    "# Calcul de l'entropie de chaque canal H,S de maniere globale\n",
    "\n",
    "df['HSV'] = df['HSV'].apply(lambda x: ast.literal_eval(x) if isinstance(x, str) else x)\n",
    "hsv_df = pd.DataFrame(df['HSV'].tolist(), columns=['H', 'S'])\n",
    "\n",
    "# Calculate the entropy for each RGB channel\n",
    "hsv_entropy = {}\n",
    "for channel in ['H', 'S']:\n",
    "    hist, _ = np.histogram(hsv_df[channel], bins=10, density=True)\n",
    "    hsv_entropy[channel] = entropy(hist, base=2).round(2)\n",
    "\n",
    "hsv_entropy"
   ]
  },
  {
   "cell_type": "code",
   "execution_count": 64,
   "metadata": {},
   "outputs": [
    {
     "data": {
      "text/plain": [
       "{'Ensoleillé': {'H': 1.78, 'S': 2.86},\n",
       " 'Lever du soleil': {'H': 2.73, 'S': 3.19},\n",
       " 'Nuageux': {'H': 2.61, 'S': 2.65},\n",
       " 'Pluvieux': {'H': 2.96, 'S': 2.27}}"
      ]
     },
     "execution_count": 64,
     "metadata": {},
     "output_type": "execute_result"
    }
   ],
   "source": [
    "# Calcul de l'entropie de chaque canal H,S par classe\n",
    "\n",
    "df['HSV'] = df['HSV'].apply(lambda x: ast.literal_eval(x) if isinstance(x, str) else x)\n",
    "\n",
    "hsv_df = pd.DataFrame(df['HSV'].tolist(), columns=['H', 'S'])\n",
    "hsv_df['Label'] = df['Label']  \n",
    "\n",
    "label_entropy = {}\n",
    "\n",
    "for label, group in hsv_df.groupby('Label'):\n",
    "    label_entropy[label] = {}\n",
    "    for channel in ['H', 'S']:\n",
    "        hist, _ = np.histogram(group[channel].dropna(), bins=10, density=True)\n",
    "        if hist.sum() > 0:  \n",
    "            label_entropy[label][channel] = entropy(hist, base=2).round(2)\n",
    "        else:\n",
    "            label_entropy[label][channel] = None  \n",
    "\n",
    "label_entropy\n"
   ]
  },
  {
   "cell_type": "code",
   "execution_count": 52,
   "metadata": {},
   "outputs": [
    {
     "data": {
      "text/html": [
       "<div>\n",
       "<style scoped>\n",
       "    .dataframe tbody tr th:only-of-type {\n",
       "        vertical-align: middle;\n",
       "    }\n",
       "\n",
       "    .dataframe tbody tr th {\n",
       "        vertical-align: top;\n",
       "    }\n",
       "\n",
       "    .dataframe thead th {\n",
       "        text-align: right;\n",
       "    }\n",
       "</style>\n",
       "<table border=\"1\" class=\"dataframe\">\n",
       "  <thead>\n",
       "    <tr style=\"text-align: right;\">\n",
       "      <th></th>\n",
       "      <th>H</th>\n",
       "      <th>S</th>\n",
       "    </tr>\n",
       "  </thead>\n",
       "  <tbody>\n",
       "    <tr>\n",
       "      <th>Ensoleillé</th>\n",
       "      <td>1.78</td>\n",
       "      <td>2.86</td>\n",
       "    </tr>\n",
       "    <tr>\n",
       "      <th>Lever du soleil</th>\n",
       "      <td>2.73</td>\n",
       "      <td>3.19</td>\n",
       "    </tr>\n",
       "    <tr>\n",
       "      <th>Nuageux</th>\n",
       "      <td>2.61</td>\n",
       "      <td>2.65</td>\n",
       "    </tr>\n",
       "    <tr>\n",
       "      <th>Pluvieux</th>\n",
       "      <td>2.96</td>\n",
       "      <td>2.27</td>\n",
       "    </tr>\n",
       "  </tbody>\n",
       "</table>\n",
       "</div>"
      ],
      "text/plain": [
       "                    H     S\n",
       "Ensoleillé       1.78  2.86\n",
       "Lever du soleil  2.73  3.19\n",
       "Nuageux          2.61  2.65\n",
       "Pluvieux         2.96  2.27"
      ]
     },
     "execution_count": 52,
     "metadata": {},
     "output_type": "execute_result"
    }
   ],
   "source": [
    "HSV_Entropy_df = pd.DataFrame(label_entropy)\n",
    "HSV_Entropy_df = HSV_Entropy_df.transpose()\n",
    "HSV_Entropy_df\n"
   ]
  },
  {
   "cell_type": "markdown",
   "metadata": {},
   "source": [
    "## Résultat final \n",
    "Interprétation détaillée sur le rapport d'analyse "
   ]
  },
  {
   "cell_type": "code",
   "execution_count": 54,
   "metadata": {},
   "outputs": [
    {
     "data": {
      "text/html": [
       "<div>\n",
       "<style scoped>\n",
       "    .dataframe tbody tr th:only-of-type {\n",
       "        vertical-align: middle;\n",
       "    }\n",
       "\n",
       "    .dataframe tbody tr th {\n",
       "        vertical-align: top;\n",
       "    }\n",
       "\n",
       "    .dataframe thead th {\n",
       "        text-align: right;\n",
       "    }\n",
       "</style>\n",
       "<table border=\"1\" class=\"dataframe\">\n",
       "  <thead>\n",
       "    <tr style=\"text-align: right;\">\n",
       "      <th></th>\n",
       "      <th>R</th>\n",
       "      <th>G</th>\n",
       "      <th>B</th>\n",
       "      <th>H</th>\n",
       "      <th>S</th>\n",
       "      <th>Luminance</th>\n",
       "    </tr>\n",
       "  </thead>\n",
       "  <tbody>\n",
       "    <tr>\n",
       "      <th>Ensoleillé</th>\n",
       "      <td>2.89</td>\n",
       "      <td>3.02</td>\n",
       "      <td>2.42</td>\n",
       "      <td>1.78</td>\n",
       "      <td>2.86</td>\n",
       "      <td>2.95</td>\n",
       "    </tr>\n",
       "    <tr>\n",
       "      <th>Lever du soleil</th>\n",
       "      <td>2.99</td>\n",
       "      <td>2.92</td>\n",
       "      <td>2.88</td>\n",
       "      <td>2.73</td>\n",
       "      <td>3.19</td>\n",
       "      <td>2.74</td>\n",
       "    </tr>\n",
       "    <tr>\n",
       "      <th>Nuageux</th>\n",
       "      <td>2.87</td>\n",
       "      <td>2.96</td>\n",
       "      <td>2.97</td>\n",
       "      <td>2.61</td>\n",
       "      <td>2.65</td>\n",
       "      <td>2.87</td>\n",
       "    </tr>\n",
       "    <tr>\n",
       "      <th>Pluvieux</th>\n",
       "      <td>2.92</td>\n",
       "      <td>2.95</td>\n",
       "      <td>2.89</td>\n",
       "      <td>2.96</td>\n",
       "      <td>2.27</td>\n",
       "      <td>3.06</td>\n",
       "    </tr>\n",
       "  </tbody>\n",
       "</table>\n",
       "</div>"
      ],
      "text/plain": [
       "                    R     G     B     H     S  Luminance\n",
       "Ensoleillé       2.89  3.02  2.42  1.78  2.86       2.95\n",
       "Lever du soleil  2.99  2.92  2.88  2.73  3.19       2.74\n",
       "Nuageux          2.87  2.96  2.97  2.61  2.65       2.87\n",
       "Pluvieux         2.92  2.95  2.89  2.96  2.27       3.06"
      ]
     },
     "execution_count": 54,
     "metadata": {},
     "output_type": "execute_result"
    }
   ],
   "source": [
    "combined_df = pd.concat([RGB_Enteropy_df, HSV_Entropy_df, luminance_entropy_df], axis=1)\n",
    "combined_df\n"
   ]
  }
 ],
 "metadata": {
  "kernelspec": {
   "display_name": "Python 3",
   "language": "python",
   "name": "python3"
  },
  "language_info": {
   "codemirror_mode": {
    "name": "ipython",
    "version": 3
   },
   "file_extension": ".py",
   "mimetype": "text/x-python",
   "name": "python",
   "nbconvert_exporter": "python",
   "pygments_lexer": "ipython3",
   "version": "3.11.3"
  }
 },
 "nbformat": 4,
 "nbformat_minor": 2
}
